{
 "cells": [
  {
   "cell_type": "markdown",
   "id": "d570f686-8668-4553-95a3-fd44b90caa1b",
   "metadata": {
    "tags": []
   },
   "source": [
    "# XDMoD Data Analytics Framework — Raw Data Examples\n",
    "\n",
    "Document version 2 (2025-07-18)\n",
    "\n",
    "Compatible with XDMoD Data Analytics Framework v≥1.0.0 and <2.0.0\n",
    "\n",
    "© 2023–2025 University at Buffalo Center for Computational Research\n",
    "\n",
    "See the [xdmod-notebooks](https://github.com/ubccr/xdmod-notebooks) repository for information on setup, support, contributing, licensing, and referencing."
   ]
  },
  {
   "cell_type": "markdown",
   "id": "26fd42a8-6176-4cce-992c-549ecb2a8ccb",
   "metadata": {},
   "source": [
    "## Introduction\n",
    "The XDMoD Data Analytics Framework provides API access to the data in an XDMoD portal via the [xdmod_data](https://pypi.org/project/xdmod-data) Python package. This notebook provides examples showing how to use the `get_raw_data()` method to obtain and process individual records from XDMoD. In this example, you will obtain low-level job performance data from the `SUPREMM` realm in XDMoD.\n",
    "\n",
    "The XDMoD Data Analytics Framework can be run either in an XDMoD-hosted JupyterHub (e.g., by clicking the \"JupyterLab\" button in ACCESS XDMoD) or locally on your machine."
   ]
  },
  {
   "cell_type": "markdown",
   "id": "8a5b9785-aeab-4114-a75c-62f2a5d7b946",
   "metadata": {},
   "source": [
    "## Install/upgrade the required modules\n",
    "Run the code below to install/upgrade the packages needed to run this notebook."
   ]
  },
  {
   "cell_type": "code",
   "execution_count": null,
   "id": "3b108c69-4af9-4677-8131-403645aa7a9b",
   "metadata": {},
   "outputs": [],
   "source": [
    "import sys\n",
    "! {sys.executable} -m pip install --upgrade 'xdmod-data[report]>=1.0.0,<2.0.0' python-dotenv tabulate"
   ]
  },
  {
   "cell_type": "markdown",
   "id": "c3be64d2-5140-4eea-a3f6-bf9f594107af",
   "metadata": {},
   "source": [
    "If running that code caused a new version of Plotly to be installed/upgraded, you may need to refresh your browser window for plots to appear correctly."
   ]
  },
  {
   "cell_type": "markdown",
   "id": "f1198bdc-eebf-4b9d-b432-ac32ecc3befb",
   "metadata": {
    "tags": []
   },
   "source": [
    "## Configure notebook formatting"
   ]
  },
  {
   "cell_type": "markdown",
   "id": "5ed66cbd-806e-42e3-9127-4ccbe92128fb",
   "metadata": {
    "tags": []
   },
   "source": [
    "### Exceptions\n",
    "Run the code below to simplify how Python exceptions are displayed in this notebook."
   ]
  },
  {
   "cell_type": "code",
   "execution_count": null,
   "id": "e2939223-09e1-4f1d-affc-426b2c937cb5",
   "metadata": {},
   "outputs": [],
   "source": [
    "import sys\n",
    "def exception_handler(exception_type, exception, traceback):\n",
    "    print(\"%s: %s\" % (exception_type.__name__, exception), file=sys.stderr)\n",
    "get_ipython()._showtraceback = exception_handler"
   ]
  },
  {
   "cell_type": "markdown",
   "id": "b11cca3e-fe75-4e26-bbbb-8745ce37770a",
   "metadata": {},
   "source": [
    "### Tables\n",
    "Run the code below to set up for displaying Pandas DataFrames as Markdown tables in this notebook."
   ]
  },
  {
   "cell_type": "code",
   "execution_count": null,
   "id": "b6e8d8eb-52ad-4619-891d-6f0c309e07f3",
   "metadata": {
    "tags": []
   },
   "outputs": [],
   "source": [
    "from IPython.display import display, Markdown\n",
    "def display_df_md_table(df):\n",
    "    return display(Markdown(df.replace('\\n', '<br/>', regex=True).to_markdown()))"
   ]
  },
  {
   "cell_type": "markdown",
   "id": "01fce24a-6a11-4df9-bfab-2eaf0ff4bb71",
   "metadata": {},
   "source": [
    "### Plots\n",
    "Run the code below to set up the external Plotly package to make plots using a custom XDMoD theme."
   ]
  },
  {
   "cell_type": "code",
   "execution_count": null,
   "id": "b807989d-7bd6-46b7-b74e-0c8db8845376",
   "metadata": {
    "tags": []
   },
   "outputs": [],
   "source": [
    "import plotly.express as px\n",
    "import plotly.io as pio\n",
    "import xdmod_data.themes\n",
    "pio.templates.default = 'timeseries'"
   ]
  },
  {
   "cell_type": "markdown",
   "id": "7b647de0-1087-4d0f-908f-bc41885414f8",
   "metadata": {},
   "source": [
    "## Prepare to authenticate with XDMoD\n",
    "\n",
    "If you are running this notebook in an XDMoD-hosted JupyterHub (e.g., you clicked the \"JupyterLab\" button in ACCESS XDMoD), then authentication happens automatically and you can skip this section.\n",
    "\n",
    "Otherwise, if you are running this notebook in a different Jupyter environment, you will need to obtain an API token from the XDMoD portal following [these instructions](https://github.com/ubccr/xdmod-data#api-token-access) and save it to a file that can be accessed by the Jupyter environment (e.g., in the home directory at `~/xdmod-data.env`) with the contents `XDMOD_API_TOKEN=token`, replacing `token` with your token. This file should be saved with `600` permissions (user read/write only). After you have done this, if you uncomment the last line of the code cell below and run it, it will read your token from `~/xdmod-data.env` into the environment, which will be used later when you start running methods from the API. It will print `True` if it successfully loaded the file."
   ]
  },
  {
   "cell_type": "code",
   "execution_count": null,
   "id": "15136aac-c4ac-4c90-a7cb-8262d3eb5ea3",
   "metadata": {},
   "outputs": [],
   "source": [
    "from dotenv import load_dotenv\n",
    "from os.path import expanduser\n",
    "from pathlib import Path\n",
    "#load_dotenv(Path(expanduser('~/xdmod-data.env'), override=True))"
   ]
  },
  {
   "cell_type": "markdown",
   "id": "d46b0b77-c394-4dab-ad7b-ca7de10ceb24",
   "metadata": {},
   "source": [
    "## Initialize the DataWarehouse object\n",
    "\n",
    "Run the code below to initialize a `DataWarehouse` object that will be used for making the API calls.\n",
    "\n",
    "If you are running in an XDMoD-hosted JupyterHub, this object will make requests to the same XDMoD portal that is hosting the JupyterHub. To make requests to a different portal instead, you can specify the URL of that portal as a string parameter to the `DataWarehouse` constructor.\n",
    "\n",
    "Otherwise, if you are running in a different Jupyter environment, you will need to specify the URL of the XDMoD portal as a string parameter to the `DataWarehouse` constructor (or set the `XDMOD_HOST` environment variable)."
   ]
  },
  {
   "cell_type": "code",
   "execution_count": null,
   "id": "d968126f-d7f1-4a5b-acdf-c05fcb7b07a1",
   "metadata": {},
   "outputs": [],
   "source": [
    "from xdmod_data.warehouse import DataWarehouse\n",
    "dw = DataWarehouse()"
   ]
  },
  {
   "cell_type": "markdown",
   "id": "04a51b3c-3e0e-4fe7-9c6d-a0dffb092868",
   "metadata": {},
   "source": [
    "## Get the raw data\n",
    "\n",
    "Run the code below to use the `get_raw_data()` method to request raw data from XDMoD and load them into a Pandas DataFrame. This example gets three days' worth of low-level performance data of jobs run on ACCESS-allocated resources. Each of the parameters of the method will be explained later in this notebook. Use `with` to create a runtime context; this is also explained later in this notebook."
   ]
  },
  {
   "cell_type": "code",
   "execution_count": null,
   "id": "855abf68-3241-480c-8790-5fc6999bff7e",
   "metadata": {},
   "outputs": [],
   "source": [
    "with dw:\n",
    "    df = dw.get_raw_data(\n",
    "        duration=('2023-05-01', '2023-05-03'),\n",
    "        realm='SUPREMM',\n",
    "        show_progress=True,\n",
    "    )"
   ]
  },
  {
   "cell_type": "markdown",
   "id": "5cbb5424-cc5a-4267-a24e-df4946f30ab1",
   "metadata": {},
   "source": [
    "Note that even just three days' worth of raw data constitutes over 100,000 rows. This is contrasted to the `get_data()` method, which aggregates data over a time period (day, week, month, etc.)."
   ]
  },
  {
   "cell_type": "markdown",
   "id": "d5d00abc-2e50-4d41-976c-3de4679b2dc6",
   "metadata": {},
   "source": [
    "Inspect the data:"
   ]
  },
  {
   "cell_type": "code",
   "execution_count": null,
   "id": "cc856f49-fad3-409f-b05f-dbfe6e0a2e8c",
   "metadata": {},
   "outputs": [],
   "source": [
    "display(df)"
   ]
  },
  {
   "cell_type": "markdown",
   "id": "24b192d5-8594-4a83-8ef2-3e3e1e968d96",
   "metadata": {},
   "source": [
    "Each row has many columns of data. View the names of all the columns:"
   ]
  },
  {
   "cell_type": "code",
   "execution_count": null,
   "id": "e7c8bf07-91b9-463d-b847-1b93a175dc24",
   "metadata": {},
   "outputs": [],
   "source": [
    "display(df.columns)"
   ]
  },
  {
   "cell_type": "markdown",
   "id": "0fc5fea1-494c-4e48-a4e4-bd93398d398c",
   "metadata": {},
   "source": [
    "Choose which columns to analyze. For example, compare wall time and total memory used in a scatter plot:"
   ]
  },
  {
   "cell_type": "code",
   "execution_count": null,
   "id": "ee619160-4025-4067-9d23-c2056071cd5b",
   "metadata": {},
   "outputs": [],
   "source": [
    "plot = px.scatter(\n",
    "    df,\n",
    "    x='Wall Time',\n",
    "    y='Total memory used',\n",
    "    title='Total memory used vs. wall time of ACCESS jobs, 05/01/2023–05/03/2023',\n",
    ")\n",
    "plot.update_layout(hovermode=False) # Prevent hover interactions causing lag due to so many points\n",
    "plot.show()"
   ]
  },
  {
   "cell_type": "markdown",
   "id": "4cce8d96-f176-49e2-a717-3fd2679bd0a4",
   "metadata": {},
   "source": [
    "Wall time is measured in seconds, and total memory used is measured in bytes. Convert these to hours and gigabytes, respectively:"
   ]
  },
  {
   "cell_type": "code",
   "execution_count": null,
   "id": "922470d3-a1b4-4c93-b4ce-da0b4047eb50",
   "metadata": {},
   "outputs": [],
   "source": [
    "df['Wall Time (hours)'] = df['Wall Time'].astype(float) / 3600\n",
    "df['Total memory used (GB)'] = df['Total memory used'].astype(float) / 1e9"
   ]
  },
  {
   "cell_type": "markdown",
   "id": "a104434f-8356-413f-9551-435832254063",
   "metadata": {},
   "source": [
    "Plot the data again:"
   ]
  },
  {
   "cell_type": "code",
   "execution_count": null,
   "id": "ee587796-8c9d-4519-b6d9-d156fa812834",
   "metadata": {},
   "outputs": [],
   "source": [
    "plot = px.scatter(\n",
    "    df,\n",
    "    x='Wall Time (hours)',\n",
    "    y='Total memory used (GB)',\n",
    "    title='Total memory used vs. wall time of ACCESS jobs, 05/01/2023–05/03/2023',\n",
    ")\n",
    "plot.update_layout(hovermode=False) # Prevent hover interactions causing lag due to so many points\n",
    "plot.show()"
   ]
  },
  {
   "cell_type": "markdown",
   "id": "45fa6c9d-248a-4292-aa60-e19b94d191e4",
   "metadata": {},
   "source": [
    "Looking at the graph, many jobs ran for under 48 hours, while some ran for longer. Many jobs used less than 500 GB, while some used more. It is important to note that these data come from multiple different computing resources, each of which has its own architecture and scheduling policies. Color-code the graph by the resource:"
   ]
  },
  {
   "cell_type": "code",
   "execution_count": null,
   "id": "85211719-dacc-4435-90f0-062196e2bde1",
   "metadata": {},
   "outputs": [],
   "source": [
    "plot = px.scatter(\n",
    "    df,\n",
    "    x='Wall Time (hours)',\n",
    "    y='Total memory used (GB)',\n",
    "    title='Total memory used vs. wall time of ACCESS jobs by resource, 05/01/2023–05/03/2023',\n",
    "    color='Resource',\n",
    ")\n",
    "plot.show()"
   ]
  },
  {
   "cell_type": "markdown",
   "id": "1cdbfa38-c8d7-4a50-974e-6376c549f68c",
   "metadata": {},
   "source": [
    "One can begin to see from this graph that the different resources are used differently. Filter by a specific resource, e.g., PSC Bridges-2 Regular Memory:"
   ]
  },
  {
   "cell_type": "code",
   "execution_count": null,
   "id": "1d8c0690-8c45-497f-9435-37a083874c4b",
   "metadata": {},
   "outputs": [],
   "source": [
    "df = df[df['Resource'] == 'bridges2-rm.psc.xsede.org']"
   ]
  },
  {
   "cell_type": "code",
   "execution_count": null,
   "id": "2c86e389-5b4c-4810-9b69-88fb4902f707",
   "metadata": {},
   "outputs": [],
   "source": [
    "plot = px.scatter(\n",
    "    df,\n",
    "    x='Wall Time (hours)',\n",
    "    y='Total memory used (GB)',\n",
    "    title='Total memory used vs. wall time of jobs on Bridges-2 RM, 05/01/2023–05/03/2023',\n",
    ")\n",
    "plot.show()"
   ]
  },
  {
   "cell_type": "markdown",
   "id": "46b8da5d-5ad3-48f1-a607-06d2571d2d0b",
   "metadata": {},
   "source": [
    "A better approach, if you know you only need to analyze the data from specific resource(s), is to modify the original call to `get_raw_data()` to include a `filters` parameter (this parameter will be explained in detail later in this notebook):"
   ]
  },
  {
   "cell_type": "code",
   "execution_count": null,
   "id": "33cdb89c-3a99-46cf-8562-8762d86a2354",
   "metadata": {},
   "outputs": [],
   "source": [
    "with dw:\n",
    "    df = dw.get_raw_data(\n",
    "        duration=('2023-05-01', '2023-05-03'),\n",
    "        realm='SUPREMM',\n",
    "        filters={\n",
    "            'Resource': 'Bridges 2 RM',\n",
    "        },\n",
    "        show_progress=True,\n",
    "    )"
   ]
  },
  {
   "cell_type": "markdown",
   "id": "fb160d5f-55c7-4492-882e-6a77df3358f4",
   "metadata": {},
   "source": [
    "This requests fewer rows, taking less time to transfer and less memory."
   ]
  },
  {
   "cell_type": "code",
   "execution_count": null,
   "id": "c2d76d12-7e6b-40ca-9896-fb84e044863a",
   "metadata": {},
   "outputs": [],
   "source": [
    "df['Wall Time (hours)'] = df['Wall Time'].astype(float) / 3600\n",
    "df['Total memory used (GB)'] = df['Total memory used'].astype(float) / 1e9"
   ]
  },
  {
   "cell_type": "markdown",
   "id": "42930456-fb15-47b1-9580-5b16dc8d02d2",
   "metadata": {},
   "source": [
    "With the data from the specific resource, you can further drill down by field of science:"
   ]
  },
  {
   "cell_type": "code",
   "execution_count": null,
   "id": "3ff270b6-98c3-4c35-bfee-b247bb777c0f",
   "metadata": {},
   "outputs": [],
   "source": [
    "plot = px.scatter(\n",
    "    df,\n",
    "    x='Wall Time (hours)',\n",
    "    y='Total memory used (GB)',\n",
    "    title='Total memory used vs. wall time of jobs on Bridges-2 RM by field of science, 05/01/2023–05/03/2023',\n",
    "    color='Field of Science',\n",
    ")\n",
    "plot.update_layout(height=550) # Make sure the plot can accommodate a larger legend\n",
    "plot.show()"
   ]
  },
  {
   "cell_type": "markdown",
   "id": "1f53a1a9-970b-4ba6-abb4-5d6b07075ad1",
   "metadata": {},
   "source": [
    "If you want to analyze the data for a specific field of science, you can add it to the list of `filters` in the original call to `get_raw_data()`. If you do not need to drill down any further, you can also restrict the requested fields of data to only those you need (e.g., wall time and total memory used) by using the `fields` parameter:"
   ]
  },
  {
   "cell_type": "code",
   "execution_count": null,
   "id": "09eab927-b20d-4f9a-8c20-ce48b8ef9ad6",
   "metadata": {},
   "outputs": [],
   "source": [
    "with dw:\n",
    "    df = dw.get_raw_data(\n",
    "        duration=('2023-05-01', '2023-05-03'),\n",
    "        realm='SUPREMM',\n",
    "        fields=(\n",
    "            'Wall Time',\n",
    "            'Total memory used',\n",
    "        ),\n",
    "        filters={\n",
    "            'Resource': 'Bridges 2 RM',\n",
    "            'Field of Science': 'Chemical Engineering',\n",
    "        },\n",
    "        show_progress=True,\n",
    "    )"
   ]
  },
  {
   "cell_type": "markdown",
   "id": "16f9bbbe-9b4c-4755-91e1-3e896559b0cb",
   "metadata": {},
   "source": [
    "This greatly reduces the amount of data that needs to be requested, taking up less time and memory."
   ]
  },
  {
   "cell_type": "code",
   "execution_count": null,
   "id": "da4db027-22e4-4cc7-8fd4-d48a6fab241e",
   "metadata": {},
   "outputs": [],
   "source": [
    "df['Wall Time (hours)'] = df['Wall Time'].astype(float) / 3600\n",
    "df['Total memory used (GB)'] = df['Total memory used'].astype(float) / 1e9"
   ]
  },
  {
   "cell_type": "code",
   "execution_count": null,
   "id": "38d5be4b-55f6-48ee-9047-1997ccb93270",
   "metadata": {},
   "outputs": [],
   "source": [
    "plot = px.scatter(\n",
    "    df,\n",
    "    x='Wall Time (hours)',\n",
    "    y='Total memory used (GB)',\n",
    "    title='Total memory used vs. wall time of chemical engineering jobs on Bridges-2 RM, 05/01/2023–05/03/2023',\n",
    ")\n",
    "plot.show()"
   ]
  },
  {
   "cell_type": "markdown",
   "id": "2c8578b2-85fb-4ee0-8b32-6c62890b0fa5",
   "metadata": {},
   "source": [
    "## Details of the `get_raw_data()` method\n",
    "Now that you have seen examples of using the `get_raw_data()` method, read below for more details on how it works."
   ]
  },
  {
   "cell_type": "markdown",
   "id": "d5182c27-a127-4309-8db3-95a96ff25ffe",
   "metadata": {},
   "source": [
    "### Wrap data warehouse calls in a runtime context\n",
    "XDMoD data are accessed over a network connection, which involves establishing connections and creating temporary resources. To ensure these connections and resources are cleaned up properly in spite of any runtime errors, you should call data warehouse methods within a **runtime context** by using Python's `with` statement to wrap the execution of XDMoD queries, store the result, and execute any long running calculations outside of the runtime context, as in the template below."
   ]
  },
  {
   "cell_type": "code",
   "execution_count": null,
   "id": "d921f294-edd2-44d9-99c2-d607c61f9690",
   "metadata": {
    "tags": []
   },
   "outputs": [],
   "source": [
    "with dw:\n",
    "    # XDMoD queries would go here\n",
    "    pass\n",
    "# Data processing would go here\n",
    "pass"
   ]
  },
  {
   "cell_type": "markdown",
   "id": "775343e2-6d0f-407e-8a19-761640aabad3",
   "metadata": {},
   "source": [
    "### Parameters\n",
    "The `get_raw_data()` method has a number of parameters explained in detail below."
   ]
  },
  {
   "cell_type": "markdown",
   "id": "4aee97bf-074b-49c7-8af3-d0961bf84d65",
   "metadata": {
    "tags": []
   },
   "source": [
    "### Duration\n",
    "The **duration** provides the time constraints of the data to be fetched from the XDMoD data warehouse.\n",
    "\n",
    "As already seen, you can specify the duration as start and end dates. These are both inclusive, so if you only want one day of data, use the same date for start and end:"
   ]
  },
  {
   "cell_type": "code",
   "execution_count": null,
   "id": "1abfa58b-1189-488e-b3ef-b8150f915c01",
   "metadata": {
    "tags": []
   },
   "outputs": [],
   "source": [
    "with dw:\n",
    "    df = dw.get_raw_data(\n",
    "        duration=('2023-05-01', '2023-05-01'),\n",
    "        realm='SUPREMM'\n",
    "    )"
   ]
  },
  {
   "cell_type": "markdown",
   "id": "8dd15134-f0f9-4aab-b59b-5df502255bea",
   "metadata": {},
   "source": [
    "You can instead specify the duration using a special string value; a list of the valid values can be obtained by calling the `get_durations()` method."
   ]
  },
  {
   "cell_type": "code",
   "execution_count": null,
   "id": "3cb25776-3d50-424d-b46e-be49c7f15d38",
   "metadata": {
    "tags": []
   },
   "outputs": [],
   "source": [
    "with dw:\n",
    "    durations = dw.get_durations()\n",
    "display(durations)"
   ]
  },
  {
   "cell_type": "markdown",
   "id": "f6628539-6c5c-4a8d-b699-f0825f3ff5bd",
   "metadata": {},
   "source": [
    "### Realm\n",
    "A **realm** is a category of data in the XDMoD data warehouse. You can use the `describe_raw_realms()` method to get a DataFrame containing the list of realms for which raw data are available."
   ]
  },
  {
   "cell_type": "code",
   "execution_count": null,
   "id": "eae9473a-374d-4b72-8b63-09ce6c278749",
   "metadata": {
    "tags": []
   },
   "outputs": [],
   "source": [
    "with dw:\n",
    "    raw_realms = dw.describe_raw_realms()\n",
    "display_df_md_table(raw_realms)"
   ]
  },
  {
   "cell_type": "markdown",
   "id": "8721f4d4-94ed-46a7-977e-4ef21f0a10e3",
   "metadata": {},
   "source": [
    "### Fields\n",
    "A **field** is a measurement for which raw data exists in a given realm. You can use the `describe_raw_fields(realm)` method to get a DataFrame containing the list of valid fields in the given realm. The realm must be passed in as a string."
   ]
  },
  {
   "cell_type": "code",
   "execution_count": null,
   "id": "b48ebdf9-db62-49c6-b16a-04e8eefab7f2",
   "metadata": {
    "tags": []
   },
   "outputs": [],
   "source": [
    "with dw:\n",
    "    raw_fields = dw.describe_raw_fields('SUPREMM')\n",
    "display_df_md_table(raw_fields)"
   ]
  },
  {
   "cell_type": "markdown",
   "id": "ec83ade8-b969-435c-be02-5672d196fa7e",
   "metadata": {},
   "source": [
    "### Filters\n",
    "**Filters** allow you to include only data that have certain values for given **dimensions**, which are groupings of data. You can use the `describe_dimensions(realm)` method to get a DataFrame containing the list of valid dimensions in the given realm. The realm must be passed in as a string and can be either the ID or the label of the realm."
   ]
  },
  {
   "cell_type": "code",
   "execution_count": null,
   "id": "b427bb00-57c8-4874-9c6c-e83fee258092",
   "metadata": {
    "tags": []
   },
   "outputs": [],
   "source": [
    "with dw:\n",
    "    dimensions = dw.describe_dimensions('SUPREMM')\n",
    "display_df_md_table(dimensions)"
   ]
  },
  {
   "cell_type": "markdown",
   "id": "9939e980-12b6-4b57-aeb1-8ed4ac195cda",
   "metadata": {},
   "source": [
    "You can use the `get_filter_values(realm, dimension)` method to get a DataFrame containing the list of valid filter values for the given dimension in the given realm. The realm and dimension must be passed in as strings."
   ]
  },
  {
   "cell_type": "code",
   "execution_count": null,
   "id": "e94c8fe1-212e-4844-8fe8-1ae87a013fb0",
   "metadata": {
    "tags": []
   },
   "outputs": [],
   "source": [
    "with dw:\n",
    "    filter_values = dw.get_filter_values('SUPREMM', 'Resource') # 'resource' also works\n",
    "display_df_md_table(filter_values)"
   ]
  },
  {
   "cell_type": "markdown",
   "id": "d09b155a-bc9c-4d27-be15-3762b5839ebb",
   "metadata": {},
   "source": [
    "For methods in the API that take filters as arguments, you must specify the filters as a dictionary in which the keys are dimensions (labels or IDs) and the values are string filter values (labels or IDs) or sequences of string filter values. For example, to return only data for which the field of science is Materials Engineering and the resource is either Bridges-2 RM or TACC Stampede2:"
   ]
  },
  {
   "cell_type": "code",
   "execution_count": null,
   "id": "0995fab0-3b00-4124-b7fb-b3a9cc3ba1a4",
   "metadata": {
    "tags": []
   },
   "outputs": [],
   "source": [
    "with dw:\n",
    "    df = dw.get_raw_data(\n",
    "        duration=('2021-05-01', '2021-05-01'),\n",
    "        realm='SUPREMM',\n",
    "        filters={\n",
    "            'Field of Science': 'Materials Engineering', # 'fieldofscience': '177' also works\n",
    "            'Resource': ( # 'resource' also works\n",
    "                'Bridges 2 RM', # '2900' also works\n",
    "                'STAMPEDE2 TACC', # '2825' also works\n",
    "            ),\n",
    "        },\n",
    "        show_progress=True\n",
    "    )"
   ]
  },
  {
   "cell_type": "markdown",
   "id": "dfbc4c64-d9a1-4224-8948-6a10edf775a2",
   "metadata": {},
   "source": [
    "### Show progress\n",
    "Set the `show_progress` parameter to `True` to periodically print how many rows have been gotten so far. "
   ]
  },
  {
   "cell_type": "markdown",
   "id": "35ae0825-73d3-4bc7-9fe4-d5e4ec10be0a",
   "metadata": {},
   "source": [
    "## Additional Examples\n",
    "For additional examples, please see the [xdmod-notebooks repository](https://github.com/ubccr/xdmod-notebooks)."
   ]
  },
  {
   "cell_type": "code",
   "execution_count": null,
   "id": "e7ec4380-ef55-42b9-8d3f-6a822591b365",
   "metadata": {},
   "outputs": [],
   "source": [
    "# This cell is used to create the footer of this notebook.\n",
    "from xdmod_data.report import footer\n",
    "footer({\n",
    "    'history': [\n",
    "        ['1', '2023-07-21', 'Initial version'],\n",
    "        ['2', '2025-07-18', 'Update for JupyterHub support'],\n",
    "    ],\n",
    "})"
   ]
  }
 ],
 "metadata": {
  "kernelspec": {
   "display_name": "Python 3 (ipykernel)",
   "language": "python",
   "name": "python3"
  },
  "language_info": {
   "codemirror_mode": {
    "name": "ipython",
    "version": 3
   },
   "file_extension": ".py",
   "mimetype": "text/x-python",
   "name": "python",
   "nbconvert_exporter": "python",
   "pygments_lexer": "ipython3",
   "version": "3.11.6"
  }
 },
 "nbformat": 4,
 "nbformat_minor": 5
}
