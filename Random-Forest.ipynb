{
 "cells": [
  {
   "cell_type": "markdown",
   "metadata": {
    "tags": []
   },
   "source": [
    "# XDMoD Data Analytics Framework — Random Forest Example\n",
    "University at Buffalo — Center for Computational Research"
   ]
  },
  {
   "cell_type": "markdown",
   "metadata": {
    "tags": []
   },
   "source": [
    "## Introduction\n",
    "The `xdmod_data` Python module provides API access to the data in XDMoD. This notebook shows an example of how to use the `get_raw_data()` method to obtain and process individual records. In this example, you will obtain job performance data, which is contained in the `SUPREMM` realm in XDMoD, and use the data to train a machine learning model."
   ]
  },
  {
   "cell_type": "markdown",
   "metadata": {
    "tags": []
   },
   "source": [
    "## Configure IPython notebook formatting"
   ]
  },
  {
   "cell_type": "markdown",
   "metadata": {
    "tags": []
   },
   "source": [
    "### Exceptions\n",
    "Run the code below to simplify how Python exceptions are displayed in this notebook."
   ]
  },
  {
   "cell_type": "code",
   "execution_count": 1,
   "metadata": {},
   "outputs": [],
   "source": [
    "import sys\n",
    "def exception_handler(exception_type, exception, traceback):\n",
    "    print(\"%s: %s\" % (exception_type.__name__, exception), file=sys.stderr)\n",
    "get_ipython()._showtraceback = exception_handler"
   ]
  },
  {
   "cell_type": "markdown",
   "metadata": {},
   "source": [
    "### Tables\n",
    "Run the code below to set up for displaying Pandas DataFrames as Markdown tables in this notebook."
   ]
  },
  {
   "cell_type": "code",
   "execution_count": 2,
   "metadata": {
    "tags": []
   },
   "outputs": [],
   "source": [
    "from IPython.display import display, Markdown\n",
    "def display_df_md_table(df):\n",
    "    return display(Markdown(df.replace('\\n', '<br/>', regex=True).to_markdown()))"
   ]
  },
  {
   "cell_type": "markdown",
   "metadata": {},
   "source": [
    "### Plots\n",
    "Run the code below to set up the external Plotly library to make plots using a custom XDMoD theme."
   ]
  },
  {
   "cell_type": "code",
   "execution_count": 3,
   "metadata": {
    "tags": []
   },
   "outputs": [],
   "source": [
    "import plotly.express as px\n",
    "import plotly.io as pio\n",
    "import xdmod_data.themes\n",
    "pio.templates.default = \"timeseries\""
   ]
  },
  {
   "cell_type": "markdown",
   "metadata": {},
   "source": [
    "## Create an environment file\n",
    "The `xdmod-data.env` file will store your XDMoD API token.\n",
    "\n",
    "Run the code below to create the file in your home directory (if it does not already exist) and allow only you to read and write to it."
   ]
  },
  {
   "cell_type": "code",
   "execution_count": 3,
   "metadata": {
    "tags": []
   },
   "outputs": [],
   "source": [
    "from pathlib import Path\n",
    "from os.path import expanduser\n",
    "xdmod_data_env_path = Path(expanduser('~/xdmod-data.env'))\n",
    "try:\n",
    "    with open(xdmod_data_env_path):\n",
    "        pass\n",
    "except FileNotFoundError:\n",
    "    with open(xdmod_data_env_path, 'w') as xdmod_data_env_file:\n",
    "        xdmod_data_env_file.write('XDMOD_API_TOKEN=')\n",
    "    xdmod_data_env_path.chmod(0o600)"
   ]
  },
  {
   "cell_type": "markdown",
   "metadata": {},
   "source": [
    "## Obtain an API token\n",
    "Follow [these instructions](https://open.xdmod.org/data-analytics-framework.html#api-token-generation) to obtain an API token."
   ]
  },
  {
   "cell_type": "markdown",
   "metadata": {},
   "source": [
    "## Store your API token in the environment file\n",
    "Open the `xdmod-data.env` file and paste your token after `XDMOD_API_TOKEN=`. Make sure there are no spaces before or after the equals sign.\n",
    "\n",
    "Save the file."
   ]
  },
  {
   "cell_type": "markdown",
   "metadata": {
    "tags": []
   },
   "source": [
    "## Load your XDMoD API token into the environment\n",
    "Run the code below to load the contents of the `xdmod-data.env` file into the environment. It will print `True` if it successfully loaded the file."
   ]
  },
  {
   "cell_type": "code",
   "execution_count": 2,
   "metadata": {
    "tags": []
   },
   "outputs": [
    {
     "data": {
      "text/plain": [
       "True"
      ]
     },
     "execution_count": 2,
     "metadata": {},
     "output_type": "execute_result"
    }
   ],
   "source": [
    "from dotenv import load_dotenv\n",
    "load_dotenv(xdmod_data_env_path, override=True)"
   ]
  },
  {
   "cell_type": "markdown",
   "metadata": {},
   "source": [
    "## Initialize the XDMoD Data Warehouse\n",
    "Run the code below to prepare for getting data from the XDMoD data warehouse at the given URL."
   ]
  },
  {
   "cell_type": "code",
   "execution_count": 4,
   "metadata": {},
   "outputs": [],
   "source": [
    "from xdmod_data.warehouse import DataWarehouse\n",
    "dw = DataWarehouse(xdmod_host='https://xdmod-dev.ccr.xdmod.org')"
   ]
  },
  {
   "cell_type": "markdown",
   "metadata": {
    "tags": []
   },
   "source": [
    "## Get the raw data\n",
    "\n",
    "Use the `get_raw_data()` method to query XDMoD and load the resulting raw data into a Pandas DataFrame. For example, [...\\]. Each of the parameters of the method will be explained later in this notebook. Use `with` to create a runtime context; this is also explained later in this notebook."
   ]
  },
  {
   "cell_type": "code",
   "execution_count": 7,
   "metadata": {
    "tags": []
   },
   "outputs": [
    {
     "name": "stdout",
     "output_type": "stream",
     "text": [
      "Got 116564 rows...DONE\n"
     ]
    }
   ],
   "source": [
    "with dw:\n",
    "    data = dw.get_raw_data(\n",
    "        duration=('2022-01-01', '2022-02-01'),\n",
    "        realm='SUPREMM',\n",
    "        fields=(\n",
    "            #'Application',\n",
    "            'CPU User',\n",
    "            'CPU User cov',\n",
    "            'Wall Time',\n",
    "            #'Memory Used',\n",
    "            'Net Ib0 Rx',\n",
    "            'Net Ib0 Tx',\n",
    "            'Memory Used Cov',\n",
    "            'Net Ib0 Rx Cov',\n",
    "            'Net Ib0 Tx Cov',\n",
    "        ),\n",
    "        filters={\n",
    "            'Resource': 'STAMPEDE2 TACC',\n",
    "        },\n",
    "        show_progress=True\n",
    "    )"
   ]
  },
  {
   "cell_type": "markdown",
   "metadata": {},
   "source": [
    "## Inspect the data"
   ]
  },
  {
   "cell_type": "code",
   "execution_count": 8,
   "metadata": {
    "tags": []
   },
   "outputs": [
    {
     "name": "stdout",
     "output_type": "stream",
     "text": [
      "<class 'pandas.core.frame.DataFrame'>\n"
     ]
    }
   ],
   "source": [
    "print(type(data))"
   ]
  },
  {
   "cell_type": "code",
   "execution_count": 9,
   "metadata": {},
   "outputs": [
    {
     "name": "stdout",
     "output_type": "stream",
     "text": [
      "Wall Time          string[python]\n",
      "CPU User           string[python]\n",
      "CPU User cov       string[python]\n",
      "Memory Used Cov    string[python]\n",
      "Net Ib0 Rx         string[python]\n",
      "Net Ib0 Tx         string[python]\n",
      "Net Ib0 Rx Cov     string[python]\n",
      "Net Ib0 Tx Cov     string[python]\n",
      "dtype: object\n"
     ]
    }
   ],
   "source": [
    "print(data.dtypes)"
   ]
  },
  {
   "cell_type": "code",
   "execution_count": 10,
   "metadata": {
    "tags": []
   },
   "outputs": [
    {
     "data": {
      "text/html": [
       "<div>\n",
       "<style scoped>\n",
       "    .dataframe tbody tr th:only-of-type {\n",
       "        vertical-align: middle;\n",
       "    }\n",
       "\n",
       "    .dataframe tbody tr th {\n",
       "        vertical-align: top;\n",
       "    }\n",
       "\n",
       "    .dataframe thead th {\n",
       "        text-align: right;\n",
       "    }\n",
       "</style>\n",
       "<table border=\"1\" class=\"dataframe\">\n",
       "  <thead>\n",
       "    <tr style=\"text-align: right;\">\n",
       "      <th></th>\n",
       "      <th>Wall Time</th>\n",
       "      <th>CPU User</th>\n",
       "      <th>CPU User cov</th>\n",
       "      <th>Memory Used Cov</th>\n",
       "      <th>Net Ib0 Rx</th>\n",
       "      <th>Net Ib0 Tx</th>\n",
       "      <th>Net Ib0 Rx Cov</th>\n",
       "      <th>Net Ib0 Tx Cov</th>\n",
       "    </tr>\n",
       "  </thead>\n",
       "  <tbody>\n",
       "    <tr>\n",
       "      <th>0</th>\n",
       "      <td>1819</td>\n",
       "      <td>97.0192650621672</td>\n",
       "      <td>0.0922169508114965</td>\n",
       "      <td>0.1712162740324448</td>\n",
       "      <td>&lt;NA&gt;</td>\n",
       "      <td>&lt;NA&gt;</td>\n",
       "      <td>&lt;NA&gt;</td>\n",
       "      <td>&lt;NA&gt;</td>\n",
       "    </tr>\n",
       "    <tr>\n",
       "      <th>1</th>\n",
       "      <td>1406</td>\n",
       "      <td>5.443026232222929</td>\n",
       "      <td>1.3310222051640888</td>\n",
       "      <td>0.33350497233333687</td>\n",
       "      <td>&lt;NA&gt;</td>\n",
       "      <td>&lt;NA&gt;</td>\n",
       "      <td>&lt;NA&gt;</td>\n",
       "      <td>&lt;NA&gt;</td>\n",
       "    </tr>\n",
       "    <tr>\n",
       "      <th>2</th>\n",
       "      <td>1732</td>\n",
       "      <td>6.326001282872144</td>\n",
       "      <td>1.503615544615307</td>\n",
       "      <td>0.33110851995880675</td>\n",
       "      <td>&lt;NA&gt;</td>\n",
       "      <td>&lt;NA&gt;</td>\n",
       "      <td>&lt;NA&gt;</td>\n",
       "      <td>&lt;NA&gt;</td>\n",
       "    </tr>\n",
       "    <tr>\n",
       "      <th>3</th>\n",
       "      <td>86414</td>\n",
       "      <td>99.48133814417768</td>\n",
       "      <td>0.0012969676282528703</td>\n",
       "      <td>0.053891950207007544</td>\n",
       "      <td>&lt;NA&gt;</td>\n",
       "      <td>&lt;NA&gt;</td>\n",
       "      <td>&lt;NA&gt;</td>\n",
       "      <td>&lt;NA&gt;</td>\n",
       "    </tr>\n",
       "    <tr>\n",
       "      <th>4</th>\n",
       "      <td>1019</td>\n",
       "      <td>99.34625044231122</td>\n",
       "      <td>0.00072267430055728</td>\n",
       "      <td>0.5083797744115175</td>\n",
       "      <td>&lt;NA&gt;</td>\n",
       "      <td>&lt;NA&gt;</td>\n",
       "      <td>&lt;NA&gt;</td>\n",
       "      <td>&lt;NA&gt;</td>\n",
       "    </tr>\n",
       "    <tr>\n",
       "      <th>...</th>\n",
       "      <td>...</td>\n",
       "      <td>...</td>\n",
       "      <td>...</td>\n",
       "      <td>...</td>\n",
       "      <td>...</td>\n",
       "      <td>...</td>\n",
       "      <td>...</td>\n",
       "      <td>...</td>\n",
       "    </tr>\n",
       "    <tr>\n",
       "      <th>116559</th>\n",
       "      <td>59359</td>\n",
       "      <td>91.45594013183106</td>\n",
       "      <td>0.029889844729945648</td>\n",
       "      <td>0.03532388876643469</td>\n",
       "      <td>&lt;NA&gt;</td>\n",
       "      <td>&lt;NA&gt;</td>\n",
       "      <td>&lt;NA&gt;</td>\n",
       "      <td>&lt;NA&gt;</td>\n",
       "    </tr>\n",
       "    <tr>\n",
       "      <th>116560</th>\n",
       "      <td>5015</td>\n",
       "      <td>32.710347492129785</td>\n",
       "      <td>0.19673823570113705</td>\n",
       "      <td>0.2198490132514679</td>\n",
       "      <td>&lt;NA&gt;</td>\n",
       "      <td>&lt;NA&gt;</td>\n",
       "      <td>&lt;NA&gt;</td>\n",
       "      <td>&lt;NA&gt;</td>\n",
       "    </tr>\n",
       "    <tr>\n",
       "      <th>116561</th>\n",
       "      <td>32</td>\n",
       "      <td>8.511856545151716</td>\n",
       "      <td>0.7224990700116423</td>\n",
       "      <td>0</td>\n",
       "      <td>&lt;NA&gt;</td>\n",
       "      <td>&lt;NA&gt;</td>\n",
       "      <td>&lt;NA&gt;</td>\n",
       "      <td>&lt;NA&gt;</td>\n",
       "    </tr>\n",
       "    <tr>\n",
       "      <th>116562</th>\n",
       "      <td>5</td>\n",
       "      <td>3.97252363881105</td>\n",
       "      <td>1.9452025150708465</td>\n",
       "      <td>0</td>\n",
       "      <td>&lt;NA&gt;</td>\n",
       "      <td>&lt;NA&gt;</td>\n",
       "      <td>&lt;NA&gt;</td>\n",
       "      <td>&lt;NA&gt;</td>\n",
       "    </tr>\n",
       "    <tr>\n",
       "      <th>116563</th>\n",
       "      <td>14</td>\n",
       "      <td>2.1135964914179044</td>\n",
       "      <td>2.5287109593047497</td>\n",
       "      <td>0</td>\n",
       "      <td>&lt;NA&gt;</td>\n",
       "      <td>&lt;NA&gt;</td>\n",
       "      <td>&lt;NA&gt;</td>\n",
       "      <td>&lt;NA&gt;</td>\n",
       "    </tr>\n",
       "  </tbody>\n",
       "</table>\n",
       "<p>116564 rows × 8 columns</p>\n",
       "</div>"
      ],
      "text/plain": [
       "       Wall Time           CPU User               CPU User cov     \\\n",
       "0                 1819    97.0192650621672     0.0922169508114965   \n",
       "1                 1406   5.443026232222929     1.3310222051640888   \n",
       "2                 1732   6.326001282872144      1.503615544615307   \n",
       "3                86414   99.48133814417768  0.0012969676282528703   \n",
       "4                 1019   99.34625044231122    0.00072267430055728   \n",
       "...                ...                 ...                    ...   \n",
       "116559           59359   91.45594013183106   0.029889844729945648   \n",
       "116560            5015  32.710347492129785    0.19673823570113705   \n",
       "116561              32   8.511856545151716     0.7224990700116423   \n",
       "116562               5    3.97252363881105     1.9452025150708465   \n",
       "116563              14  2.1135964914179044     2.5287109593047497   \n",
       "\n",
       "             Memory Used Cov Net Ib0 Rx      Net Ib0 Tx      Net Ib0 Rx Cov   \\\n",
       "0         0.1712162740324448            <NA>            <NA>            <NA>   \n",
       "1        0.33350497233333687            <NA>            <NA>            <NA>   \n",
       "2        0.33110851995880675            <NA>            <NA>            <NA>   \n",
       "3       0.053891950207007544            <NA>            <NA>            <NA>   \n",
       "4         0.5083797744115175            <NA>            <NA>            <NA>   \n",
       "...                      ...             ...             ...             ...   \n",
       "116559   0.03532388876643469            <NA>            <NA>            <NA>   \n",
       "116560    0.2198490132514679            <NA>            <NA>            <NA>   \n",
       "116561                     0            <NA>            <NA>            <NA>   \n",
       "116562                     0            <NA>            <NA>            <NA>   \n",
       "116563                     0            <NA>            <NA>            <NA>   \n",
       "\n",
       "       Net Ib0 Tx Cov   \n",
       "0                 <NA>  \n",
       "1                 <NA>  \n",
       "2                 <NA>  \n",
       "3                 <NA>  \n",
       "4                 <NA>  \n",
       "...                ...  \n",
       "116559            <NA>  \n",
       "116560            <NA>  \n",
       "116561            <NA>  \n",
       "116562            <NA>  \n",
       "116563            <NA>  \n",
       "\n",
       "[116564 rows x 8 columns]"
      ]
     },
     "metadata": {},
     "output_type": "display_data"
    }
   ],
   "source": [
    "display(data)"
   ]
  },
  {
   "cell_type": "markdown",
   "metadata": {},
   "source": [
    "## Prepare data for training\n",
    "Looking at the summary table, there are some records that have `<NA>` values. This is not unusal and is typically because the data were not collected (insufficient data points, errors in the data collection, etc.).\n",
    "\n",
    "To prepare for training, filter out records that have `<NA>` data:"
   ]
  },
  {
   "cell_type": "code",
   "execution_count": null,
   "metadata": {},
   "outputs": [],
   "source": [
    "data = data.dropna()\n",
    "display(data)"
   ]
  },
  {
   "cell_type": "markdown",
   "metadata": {},
   "source": [
    "The `get_raw_data()` method returns a DataFrame containing string data. To make it easier to manipulate and plot the data and use it for training, convert this to floating point and integer data:"
   ]
  },
  {
   "cell_type": "code",
   "execution_count": 13,
   "metadata": {
    "scrolled": true
   },
   "outputs": [
    {
     "name": "stdout",
     "output_type": "stream",
     "text": [
      "Wall Time            int64\n",
      "CPU User           float64\n",
      "CPU User cov       float64\n",
      "Memory Used Cov    float64\n",
      "Net Ib0 Rx         float64\n",
      "Net Ib0 Tx         float64\n",
      "Net Ib0 Rx Cov     float64\n",
      "Net Ib0 Tx Cov     float64\n",
      "dtype: object\n"
     ]
    },
    {
     "data": {
      "text/html": [
       "<div>\n",
       "<style scoped>\n",
       "    .dataframe tbody tr th:only-of-type {\n",
       "        vertical-align: middle;\n",
       "    }\n",
       "\n",
       "    .dataframe tbody tr th {\n",
       "        vertical-align: top;\n",
       "    }\n",
       "\n",
       "    .dataframe thead th {\n",
       "        text-align: right;\n",
       "    }\n",
       "</style>\n",
       "<table border=\"1\" class=\"dataframe\">\n",
       "  <thead>\n",
       "    <tr style=\"text-align: right;\">\n",
       "      <th></th>\n",
       "      <th>Wall Time</th>\n",
       "      <th>CPU User</th>\n",
       "      <th>CPU User cov</th>\n",
       "      <th>Memory Used Cov</th>\n",
       "      <th>Net Ib0 Rx</th>\n",
       "      <th>Net Ib0 Tx</th>\n",
       "      <th>Net Ib0 Rx Cov</th>\n",
       "      <th>Net Ib0 Tx Cov</th>\n",
       "    </tr>\n",
       "  </thead>\n",
       "  <tbody>\n",
       "  </tbody>\n",
       "</table>\n",
       "</div>"
      ],
      "text/plain": [
       "Empty DataFrame\n",
       "Columns: [Wall Time, CPU User, CPU User cov, Memory Used Cov, Net Ib0 Rx, Net Ib0 Tx, Net Ib0 Rx Cov, Net Ib0 Tx Cov]\n",
       "Index: []"
      ]
     },
     "metadata": {},
     "output_type": "display_data"
    }
   ],
   "source": [
    "data = data.astype(float)\n",
    "data['Wall Time'] = data['Wall Time'].astype(int)\n",
    "print(data.dtypes)\n",
    "display(data)"
   ]
  },
  {
   "cell_type": "code",
   "execution_count": null,
   "metadata": {},
   "outputs": [],
   "source": []
  }
 ],
 "metadata": {
  "kernelspec": {
   "display_name": "Python 3 (ipykernel)",
   "language": "python",
   "name": "python3"
  },
  "language_info": {
   "codemirror_mode": {
    "name": "ipython",
    "version": 3
   },
   "file_extension": ".py",
   "mimetype": "text/x-python",
   "name": "python",
   "nbconvert_exporter": "python",
   "pygments_lexer": "ipython3",
   "version": "3.11.4"
  }
 },
 "nbformat": 4,
 "nbformat_minor": 4
}
