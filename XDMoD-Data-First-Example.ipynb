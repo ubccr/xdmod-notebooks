{
 "cells": [
  {
   "cell_type": "markdown",
   "id": "db4061c7-2b36-4284-af31-4ae940a07768",
   "metadata": {
    "tags": []
   },
   "source": [
    "# XDMoD Data Analytics Framework — First Example\n",
    "\n",
    "Notebook v2.0 (2024-09-27)\n",
    "\n",
    "Compatible with XDMoD Data Analytics Framework v≥1.0.0 and <2.0.0\n",
    "\n",
    "© 2023–2024 University at Buffalo Center for Computational Research\n",
    "\n",
    "See the [xdmod-notebooks](https://github.com/ubccr/xdmod-notebooks) repository for information on setup, support, contributing, licensing, and referencing."
   ]
  },
  {
   "cell_type": "markdown",
   "id": "77f9e969-5120-4a7a-a844-fa6fda893755",
   "metadata": {},
   "source": [
    "## Introduction\n",
    "\n",
    "The XDMoD Data Analytics Framework provides API access to the data in XDMoD via the [`xdmod_data` Python module](https://pypi.org/project/xdmod-data). This notebook provides an introductory example showing how to use the module. You will use the XDMoD API to request data, load them into a [Pandas](https://pandas.pydata.org/) [DataFrame](https://pandas.pydata.org/docs/reference/api/pandas.DataFrame.html), and generate plots. The dataset in this example contains the number of active users of [ACCESS](https://access-ci.org/)-allocated resources per day of the week over a 4-month period."
   ]
  },
  {
   "cell_type": "markdown",
   "id": "84713a67-80c4-4803-8a45-0decdb65b500",
   "metadata": {},
   "source": [
    "## Install/upgrade the required modules\n",
    "\n",
    "Run the code below to install/upgrade the modules needed to run this notebook."
   ]
  },
  {
   "cell_type": "code",
   "execution_count": null,
   "id": "43521c0d-ca9e-47cd-ba5a-c1f9d0b83290",
   "metadata": {},
   "outputs": [],
   "source": [
    "import sys\n",
    "! {sys.executable} -m pip install --upgrade 'xdmod-data>=1.0.0,<2.0.0' python-dotenv tabulate"
   ]
  },
  {
   "cell_type": "markdown",
   "id": "56c7d25d-241b-4c65-a77b-7eca37386714",
   "metadata": {},
   "source": [
    "If running that code caused a new version of Plotly to be installed/upgraded, you may need to refresh your browser window for plots to appear correctly."
   ]
  },
  {
   "cell_type": "markdown",
   "id": "cdc4dfd8-5e8c-407c-ace6-f484608e4141",
   "metadata": {
    "tags": []
   },
   "source": [
    "## Configure notebook formatting"
   ]
  },
  {
   "cell_type": "markdown",
   "id": "cb20fc44-df65-4d32-9040-2a13ba1ac5c1",
   "metadata": {
    "tags": []
   },
   "source": [
    "### Exceptions\n",
    "\n",
    "Run the code below to simplify how Python exceptions are displayed in this notebook."
   ]
  },
  {
   "cell_type": "code",
   "execution_count": null,
   "id": "852da6ec-8c06-4389-88ae-48c24acb621e",
   "metadata": {},
   "outputs": [],
   "source": [
    "import sys\n",
    "def exception_handler(exception_type, exception, traceback):\n",
    "    print(\"%s: %s\" % (exception_type.__name__, exception), file=sys.stderr)\n",
    "get_ipython()._showtraceback = exception_handler"
   ]
  },
  {
   "cell_type": "markdown",
   "id": "7242d35a-7d1b-4b14-9aa5-b4a9bcb10a91",
   "metadata": {},
   "source": [
    "### Tables\n",
    "\n",
    "Run the code below to set up for displaying Pandas DataFrames as Markdown tables in this notebook."
   ]
  },
  {
   "cell_type": "code",
   "execution_count": null,
   "id": "2678201f-feba-4b2a-897f-284f05119b9c",
   "metadata": {
    "tags": []
   },
   "outputs": [],
   "source": [
    "from IPython.display import display, Markdown\n",
    "def display_df_md_table(df):\n",
    "    return display(Markdown(df.replace('\\n', '<br/>', regex=True).to_markdown()))"
   ]
  },
  {
   "cell_type": "markdown",
   "id": "3d588361-779e-42dc-ade7-6c95f3900c95",
   "metadata": {},
   "source": [
    "### Plots\n",
    "\n",
    "Run the code below to set up the external Plotly library to make plots using a custom XDMoD theme."
   ]
  },
  {
   "cell_type": "code",
   "execution_count": null,
   "id": "9c6c5409-db04-4d29-a9eb-fc0935322e80",
   "metadata": {
    "tags": []
   },
   "outputs": [],
   "source": [
    "import plotly.express as px\n",
    "import plotly.io as pio\n",
    "import xdmod_data.themes\n",
    "pio.templates.default = \"timeseries\""
   ]
  },
  {
   "cell_type": "markdown",
   "id": "035a27ba-a47b-4fe6-a7ea-b73e5f5a308a",
   "metadata": {},
   "source": [
    "## Create an environment file\n",
    "\n",
    "The `xdmod-data.env` file will store your XDMoD API token.\n",
    "\n",
    "Run the code below to create the file in your home directory (if it does not already exist) and allow only you to read and write to it."
   ]
  },
  {
   "cell_type": "code",
   "execution_count": null,
   "id": "7d216a32-11c6-4ae4-98e9-1b2c19d442d2",
   "metadata": {
    "tags": []
   },
   "outputs": [],
   "source": [
    "from pathlib import Path\n",
    "from os.path import expanduser\n",
    "xdmod_data_env_path = Path(expanduser('~/xdmod-data.env'))\n",
    "try:\n",
    "    with open(xdmod_data_env_path):\n",
    "        pass\n",
    "except FileNotFoundError:\n",
    "    with open(xdmod_data_env_path, 'w') as xdmod_data_env_file:\n",
    "        xdmod_data_env_file.write('XDMOD_API_TOKEN=')\n",
    "    xdmod_data_env_path.chmod(0o600)"
   ]
  },
  {
   "cell_type": "markdown",
   "id": "67311e00-9fd8-4b1c-80cc-44b0d4b18a7f",
   "metadata": {},
   "source": [
    "## Obtain an API token\n",
    "\n",
    "Follow [these instructions](https://github.com/ubccr/xdmod-data#api-token-access) to obtain an API token."
   ]
  },
  {
   "cell_type": "markdown",
   "id": "ae55bfed-eedc-4a72-88d9-510fe271ed36",
   "metadata": {},
   "source": [
    "## Store your API token in the environment file\n",
    "\n",
    "Open the `xdmod-data.env` file and paste your token after `XDMOD_API_TOKEN=`.\n",
    "\n",
    "Save the file."
   ]
  },
  {
   "cell_type": "markdown",
   "id": "02193bb2-1b80-4b9d-8733-ad292a877ccf",
   "metadata": {
    "tags": []
   },
   "source": [
    "## Load your XDMoD API token into the environment\n",
    "\n",
    "Run the code below to load the contents of the `xdmod-data.env` file into the environment. It will print `True` if it successfully loaded the file."
   ]
  },
  {
   "cell_type": "code",
   "execution_count": null,
   "id": "d5eefbd5-8eab-4ac2-87fe-2c6271c7b9cd",
   "metadata": {
    "tags": []
   },
   "outputs": [],
   "source": [
    "from dotenv import load_dotenv\n",
    "load_dotenv(xdmod_data_env_path, override=True)"
   ]
  },
  {
   "cell_type": "markdown",
   "id": "bc6c166c-5e03-403b-88e1-4b4b2735c690",
   "metadata": {},
   "source": [
    "## Initialize the XDMoD Data Warehouse\n",
    "\n",
    "Run the code below to prepare for getting data from the XDMoD data warehouse at the given URL."
   ]
  },
  {
   "cell_type": "code",
   "execution_count": null,
   "id": "57583c14-0196-4e1d-bc63-3a66c493fa44",
   "metadata": {},
   "outputs": [],
   "source": [
    "from xdmod_data.warehouse import DataWarehouse\n",
    "dw = DataWarehouse('https://xdmod.access-ci.org')"
   ]
  },
  {
   "cell_type": "markdown",
   "id": "3738a176-5b11-4a27-bf5c-2e785f07210d",
   "metadata": {},
   "source": [
    "## Get the data\n",
    "\n",
    "Run the code below to use the `get_data()` method to request data from XDMoD and load them into a Pandas DataFrame. This example gets the number of active users of ACCESS-allocated resources over a 4-month period. Each of the parameters of the method will be explained later in this notebook. Use `with` to create a runtime context; this is also explained later in this notebook."
   ]
  },
  {
   "cell_type": "code",
   "execution_count": null,
   "id": "00e141b1-3554-44e6-a08b-85b3f6b19fd3",
   "metadata": {},
   "outputs": [],
   "source": [
    "with dw:\n",
    "    data = dw.get_data(\n",
    "        duration=('2023-01-01', '2023-04-30'),\n",
    "        realm='Jobs',\n",
    "        metric='Number of Users: Active',\n",
    "    )\n",
    "display(data)"
   ]
  },
  {
   "cell_type": "markdown",
   "id": "258e366e-04fb-4a99-b1cf-31dc07bfc676",
   "metadata": {},
   "source": [
    "Note that the `data` object is a Pandas DataFrame:"
   ]
  },
  {
   "cell_type": "code",
   "execution_count": null,
   "id": "d89714ef-272b-4b39-a921-a4158dce8805",
   "metadata": {},
   "outputs": [],
   "source": [
    "type(data)"
   ]
  },
  {
   "cell_type": "markdown",
   "id": "fe649112-1a6b-4869-9201-8d340597eaa9",
   "metadata": {},
   "source": [
    "## Plot the data"
   ]
  },
  {
   "cell_type": "code",
   "execution_count": null,
   "id": "498b75e8-7a73-4c77-966e-71844ad48b5c",
   "metadata": {},
   "outputs": [],
   "source": [
    "plot = px.line(data, y='Number of Users: Active')\n",
    "plot.show()"
   ]
  },
  {
   "cell_type": "markdown",
   "id": "847a0a67-b6ce-44dd-aa67-bac7ba1cd126",
   "metadata": {},
   "source": [
    "## Do further data processing\n",
    "\n",
    "You can do further processing on the DataFrame to produce analysis and plots beyond those that are available in the XDMoD portal.\n",
    "\n",
    "Run the code below to add a column for the day of the week:"
   ]
  },
  {
   "cell_type": "code",
   "execution_count": null,
   "id": "c73680d5-7df1-4e97-88cc-92deaa9f3697",
   "metadata": {},
   "outputs": [],
   "source": [
    "data['Day Name'] = data.index.strftime('%a')\n",
    "display(data)"
   ]
  },
  {
   "cell_type": "markdown",
   "id": "78006e89-7b42-4263-8a45-d2491345ebb0",
   "metadata": {},
   "source": [
    "Run the code below to show a box plot of the data grouped by day of the week:"
   ]
  },
  {
   "cell_type": "code",
   "execution_count": null,
   "id": "ebe8fcb7-342b-459e-8b51-3112edc7b328",
   "metadata": {},
   "outputs": [],
   "source": [
    "plot = px.box(\n",
    "    data,\n",
    "    x='Day Name',\n",
    "    y='Number of Users: Active',\n",
    "    category_orders={'Day Name': ('Sun', 'Mon', 'Tue', 'Wed', 'Thu', 'Fri', 'Sat')},\n",
    ")\n",
    "plot.show()"
   ]
  },
  {
   "cell_type": "markdown",
   "id": "78503d11-a84c-4ead-be72-cb963efb5149",
   "metadata": {},
   "source": [
    "## Details of the `get_data()` method\n",
    "\n",
    "Now that you have seen a basic example of using the `get_data()` method, read below for more details on how it works."
   ]
  },
  {
   "cell_type": "markdown",
   "id": "cd5494a4-d368-43fc-8662-af92f9304a87",
   "metadata": {},
   "source": [
    "### Wrap data warehouse calls in a runtime context\n",
    "\n",
    "XDMoD data is accessed over a network connection, which involves establishing connections and creating temporary resources. To ensure these connections and resources are cleaned up properly in spite of any runtime errors, you should call data warehouse methods within a **runtime context** by using Python's `with` statement to wrap the execution of XDMoD queries, store the result, and execute any long running calculations outside of the runtime context, as in the template below."
   ]
  },
  {
   "cell_type": "code",
   "execution_count": null,
   "id": "faf12b0f-96ef-490e-9a37-de11c5d98ad4",
   "metadata": {},
   "outputs": [],
   "source": [
    "with dw:\n",
    "    # XDMoD queries would go here\n",
    "    pass\n",
    "# Data processing would go here\n",
    "pass"
   ]
  },
  {
   "cell_type": "markdown",
   "id": "d0d75eac-6bad-45e7-9f34-b687625ffc0e",
   "metadata": {},
   "source": [
    "### Default parameters\n",
    "\n",
    "The `get_data()` method has a number of parameters; their default values are shown below, and the parameters are explained in more detail further below."
   ]
  },
  {
   "cell_type": "code",
   "execution_count": null,
   "id": "49269fae-eb5e-43e7-adb0-f06997d65f14",
   "metadata": {},
   "outputs": [],
   "source": [
    "with dw:\n",
    "    data = dw.get_data(\n",
    "        duration='Previous month',\n",
    "        realm='Jobs',\n",
    "        metric='CPU Hours: Total',\n",
    "        dimension='None',\n",
    "        filters={},\n",
    "        dataset_type='timeseries',\n",
    "        aggregation_unit='Auto',\n",
    "    )"
   ]
  },
  {
   "cell_type": "markdown",
   "id": "17f8700f-2c7e-4fad-a1b3-a284ab0eb3cd",
   "metadata": {
    "tags": []
   },
   "source": [
    "### Duration\n",
    "\n",
    "The **duration** provides the time constraints of the data to be fetched from the XDMoD data warehouse.\n",
    "\n",
    "As already seen, you can specify the duration as start and end times:"
   ]
  },
  {
   "cell_type": "code",
   "execution_count": null,
   "id": "81f614c6-7d93-4d31-9f68-9c444a89e138",
   "metadata": {},
   "outputs": [],
   "source": [
    "with dw:\n",
    "    data = dw.get_data(duration=('2023-01-01', '2023-04-30'))"
   ]
  },
  {
   "cell_type": "markdown",
   "id": "92660973-e0cc-4780-8b1c-02e8307c2de6",
   "metadata": {},
   "source": [
    "You can instead specify the duration using a special string value; a list of the valid values can be obtained by calling the `get_durations()` method."
   ]
  },
  {
   "cell_type": "code",
   "execution_count": null,
   "id": "c68c30a6-584d-4b8f-9c6b-63ea281d2def",
   "metadata": {},
   "outputs": [],
   "source": [
    "with dw:\n",
    "    durations = dw.get_durations()\n",
    "display(durations)"
   ]
  },
  {
   "cell_type": "markdown",
   "id": "a31ed751-8105-49c4-9f06-5a61baeff145",
   "metadata": {
    "tags": []
   },
   "source": [
    "### Realm\n",
    "\n",
    "A **realm** is a category of data in the XDMoD data warehouse. You can use the `describe_realms()` method to get a DataFrame containing the list of available realms."
   ]
  },
  {
   "cell_type": "code",
   "execution_count": null,
   "id": "5f9186a0-aaec-4c5b-bc31-986e31dc7024",
   "metadata": {},
   "outputs": [],
   "source": [
    "with dw:\n",
    "    realms = dw.describe_realms()\n",
    "display_df_md_table(realms)"
   ]
  },
  {
   "cell_type": "markdown",
   "id": "37ec00eb-faf6-4682-9a74-05d41f86827b",
   "metadata": {},
   "source": [
    "### Metric\n",
    "\n",
    "A **metric** is a statistic for which data exists in a given realm. You can use the `describe_metrics(realm)` method to get a DataFrame containing the list of valid metrics in the given realm. The realm must be passed in as a string."
   ]
  },
  {
   "cell_type": "code",
   "execution_count": null,
   "id": "0a2ee263-0d0c-4e6c-b954-66c24ef45fd8",
   "metadata": {},
   "outputs": [],
   "source": [
    "with dw:\n",
    "    metrics = dw.describe_metrics('Jobs')\n",
    "display_df_md_table(metrics)"
   ]
  },
  {
   "cell_type": "markdown",
   "id": "511389a5-14f1-489b-8495-3340ab2c85c9",
   "metadata": {
    "tags": []
   },
   "source": [
    "### Dimension\n",
    "\n",
    "A **dimension** is a grouping of data. You can use the `describe_dimensions(realm)` method to get a DataFrame containing the list of valid dimensions in the given realm. The realm must be passed in as a string."
   ]
  },
  {
   "cell_type": "code",
   "execution_count": null,
   "id": "fc364eb1-c3d9-4724-82ab-897191e3e3f4",
   "metadata": {
    "tags": []
   },
   "outputs": [],
   "source": [
    "with dw:\n",
    "    dimensions = dw.describe_dimensions('Jobs')\n",
    "display_df_md_table(dimensions)"
   ]
  },
  {
   "cell_type": "markdown",
   "id": "ed274746-b736-4181-9e2d-6de6febf39a9",
   "metadata": {},
   "source": [
    "The code below shows how to get data grouped by the `Resource` dimension and plot them."
   ]
  },
  {
   "cell_type": "code",
   "execution_count": null,
   "id": "651f122b-76aa-4812-99ec-56a33646521c",
   "metadata": {},
   "outputs": [],
   "source": [
    "metric_label = 'Number of Users: Active'\n",
    "with dw:\n",
    "    data = dw.get_data(\n",
    "        duration=('2023-01-01', '2023-04-30'),\n",
    "        realm='Jobs',\n",
    "        metric=metric_label,\n",
    "        dimension='Resource',\n",
    "    )\n",
    "plot = px.line(data, labels={'value': metric_label})\n",
    "plot.show()"
   ]
  },
  {
   "cell_type": "markdown",
   "id": "bac0e9fb-4442-40b4-8478-1e450bd93d58",
   "metadata": {},
   "source": [
    "### Pass in realms, metrics, and dimensions using labels or IDs\n",
    "\n",
    "For methods in the API that take realms, metrics, and/or dimensions as arguments, you can pass them in as their labels or their IDs."
   ]
  },
  {
   "cell_type": "code",
   "execution_count": null,
   "id": "d9ce1937-c232-4b39-ae40-bd5af1743716",
   "metadata": {},
   "outputs": [],
   "source": [
    "with dw:\n",
    "    data = dw.get_data(\n",
    "        duration='10 year',\n",
    "        realm='Allocations',\n",
    "        metric='NUs: Allocated', # 'allocated_nu' also works\n",
    "        dimension='Resource Type',  # 'resource_type' also works\n",
    "    )"
   ]
  },
  {
   "cell_type": "markdown",
   "id": "ee8f3916-665b-4582-ac63-dabaf4570c72",
   "metadata": {
    "tags": []
   },
   "source": [
    "### Filters\n",
    "\n",
    "**Filters** allow you to include only data that have certain values for given dimensions. You can use the `get_filter_values(realm, dimension)` method to get a DataFrame containing the list of valid filter values for the given dimension in the given realm. The realm and dimension must be passed in as strings."
   ]
  },
  {
   "cell_type": "code",
   "execution_count": null,
   "id": "60c52451-bc4e-442e-a132-0e3be7ffae74",
   "metadata": {},
   "outputs": [],
   "source": [
    "with dw:\n",
    "    filter_values = dw.get_filter_values('Jobs', 'Resource') # 'resource' also works\n",
    "display_df_md_table(filter_values)"
   ]
  },
  {
   "cell_type": "markdown",
   "id": "58d1c81a-7d1a-437d-b8ac-41ad21ae1bf0",
   "metadata": {},
   "source": [
    "For methods in the API that take filters as arguments, you must specify the filters as a dictionary in which the keys are dimensions (labels or IDs) and the values are string filter values (labels or IDs) or sequences of string filter values. For example, to return only data for which the field of science is biophysics and the resource is either NCSA Delta GPU or TACC Stampede2:"
   ]
  },
  {
   "cell_type": "code",
   "execution_count": null,
   "id": "e8d9d268-5964-4154-aaca-aeeed9a6b858",
   "metadata": {},
   "outputs": [],
   "source": [
    "with dw:\n",
    "    data = dw.get_data(\n",
    "        filters={\n",
    "            'Field of Science': 'Biophysics', # 'fieldofscience': '246' also works\n",
    "            'Resource': ( # 'resource' also works\n",
    "                'NCSA DELTA GPU', # '3032' also works\n",
    "                'STAMPEDE2 TACC', # '2825' also works\n",
    "            ),\n",
    "        },\n",
    "    )"
   ]
  },
  {
   "cell_type": "markdown",
   "id": "d95c4244-37f6-4458-8b5e-d5604f72c2c5",
   "metadata": {},
   "source": [
    "### Dataset Type\n",
    "\n",
    "The **dataset type** can either be 'timeseries' (the default), in which data is grouped by a time [aggregation unit](#Aggregation-unit), or 'aggregate', in which the data is aggregated across the entire [duration](#Duration). For 'aggregate', the results are returned as a Pandas Series rather than a DataFrame.\n",
    "\n",
    "The code below shows how to create a bar plot of data aggregated over four months, grouped by resource."
   ]
  },
  {
   "cell_type": "code",
   "execution_count": null,
   "id": "a842212b-c9d0-4c71-b014-2c57b3a56cfe",
   "metadata": {},
   "outputs": [],
   "source": [
    "metric_label = 'Number of Users: Active'\n",
    "with dw:\n",
    "    data = dw.get_data(\n",
    "        duration=('2023-01-01', '2023-04-30'),\n",
    "        realm='Jobs',\n",
    "        metric=metric_label,\n",
    "        dimension='Resource',\n",
    "        dataset_type='aggregate',\n",
    "    )\n",
    "plot = px.bar(data, labels={'value': metric_label})\n",
    "plot.update_layout(\n",
    "    showlegend=False,\n",
    "    xaxis_automargin=True,\n",
    ")\n",
    "plot.show()"
   ]
  },
  {
   "cell_type": "markdown",
   "id": "bf632a3b-73eb-4c0e-a001-96f5c2d1c3d4",
   "metadata": {},
   "source": [
    "### Aggregation unit\n",
    "\n",
    "The **aggregation unit** specifies how data is aggregated by time. You can get a list of valid aggregation units by calling the `get_aggregation_units()` method."
   ]
  },
  {
   "cell_type": "code",
   "execution_count": null,
   "id": "3ddc3b39-1968-49e3-b269-6ed93e6dba3d",
   "metadata": {
    "tags": []
   },
   "outputs": [],
   "source": [
    "with dw:\n",
    "    display(dw.get_aggregation_units())"
   ]
  },
  {
   "cell_type": "markdown",
   "id": "13c08ea7-df9d-410d-841d-0bd6670fd2ef",
   "metadata": {},
   "source": [
    "## Additional Examples\n",
    "\n",
    "For additional examples, please see the [xdmod-notebooks repository](https://github.com/ubccr/xdmod-notebooks)."
   ]
  },
  {
   "cell_type": "markdown",
   "id": "b9cb8874-138a-45f4-a06b-244c67f510f2",
   "metadata": {},
   "source": [
    "---\n",
    "![XDMoD](data:image/png;base64,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) XDMoD Data Analytics Framework"
   ]
  }
 ],
 "metadata": {
  "kernelspec": {
   "display_name": "Python 3 (ipykernel)",
   "language": "python",
   "name": "python3"
  },
  "language_info": {
   "codemirror_mode": {
    "name": "ipython",
    "version": 3
   },
   "file_extension": ".py",
   "mimetype": "text/x-python",
   "name": "python",
   "nbconvert_exporter": "python",
   "pygments_lexer": "ipython3",
   "version": "3.11.4"
  }
 },
 "nbformat": 4,
 "nbformat_minor": 5
}
