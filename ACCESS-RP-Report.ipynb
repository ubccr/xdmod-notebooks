{
 "cells": [
  {
   "cell_type": "markdown",
   "id": "9e562e56-f2d7-452e-aeeb-0966ac039212",
   "metadata": {},
   "source": [
    "# ACCESS Metrics report for Purdue"
   ]
  },
  {
   "cell_type": "code",
   "execution_count": null,
   "id": "629ae28c-0052-4426-baef-4a3ca53740d4",
   "metadata": {},
   "outputs": [],
   "source": [
    "PROVIDER = 'Purdue'\n",
    "RESOURCE_RENAMES = {\n",
    "    'Purdue Anvil CPU': 'Anvil CPU',\n",
    "    'Purdue Anvil GPU': 'Anvil GPU',\n",
    "}"
   ]
  },
  {
   "cell_type": "code",
   "execution_count": null,
   "id": "ec76a1b5-b98f-40c9-a270-c897c0f253c1",
   "metadata": {},
   "outputs": [],
   "source": [
    "YEAR = 2025\n",
    "QUARTER_START_DATE_SUFFIX = '-01-01'\n",
    "QUARTER_START_DATE = str(YEAR) + QUARTER_START_DATE_SUFFIX\n",
    "QUARTER_END_DATE_SUFFIX = '-03-31'\n",
    "QUARTER_END_DATE = str(YEAR) + QUARTER_END_DATE_SUFFIX\n",
    "TWO_YEARS_AGO_QUARTER_START_DATE = str(YEAR - 2) + QUARTER_START_DATE_SUFFIX"
   ]
  },
  {
   "cell_type": "code",
   "execution_count": null,
   "id": "00b0aa60-f8fa-4a4a-8a26-0a80788d4b49",
   "metadata": {},
   "outputs": [],
   "source": [
    "# This cell will be removed once JWT implementation is complete.\n",
    "import os\n",
    "from pathlib import Path\n",
    "from dotenv import load_dotenv\n",
    "load_dotenv(Path(os.path.expanduser('~/xdmod-data.env')), override=True)\n",
    "os.environ['XDMOD_API_TOKEN'] = os.environ['PROD_API_TOKEN']"
   ]
  },
  {
   "cell_type": "code",
   "execution_count": null,
   "id": "be4976cc-9373-4897-a722-4265f4be194b",
   "metadata": {},
   "outputs": [],
   "source": [
    "#import sys\n",
    "#! {sys.executable} -m pip install --upgrade 'xdmod-data>=1.0.0,<2.0.0' python-dotenv tabulate"
   ]
  },
  {
   "cell_type": "code",
   "execution_count": null,
   "id": "1277cd84-5f56-49ec-b306-da4ea9208924",
   "metadata": {},
   "outputs": [],
   "source": [
    "import pandas as pd\n",
    "import plotly.express as px\n",
    "import plotly.io as pio\n",
    "import xdmod_data.themes\n",
    "pio.templates.default = 'timeseries'\n",
    "from xdmod_data.warehouse import DataWarehouse\n",
    "from IPython.display import display, Markdown\n",
    "def display_df_md_table(df):\n",
    "    return display(Markdown(df.replace('\\n', '<br/>', regex=True).to_markdown(floatfmt=',.0f')))\n",
    "dw = DataWarehouse('https://xdmod.access-ci.org')"
   ]
  },
  {
   "cell_type": "code",
   "execution_count": null,
   "id": "e01314ec-7932-4d6f-8f9f-db43efb67cce",
   "metadata": {},
   "outputs": [],
   "source": [
    "def two_year_line_plot_by_quarter(\n",
    "    y=None,\n",
    "    resource=None,\n",
    "    dimension=None,\n",
    "    nlargest=0,\n",
    "    vertical_legend=False,\n",
    "):\n",
    "    if y == 'projects':\n",
    "        metric = 'Number of Allocations: Active'\n",
    "        metric_label = 'Number of Active Projects'\n",
    "    elif y == 'users':\n",
    "        metric = 'Number of Users: Active'\n",
    "        metric_label = 'Number of Active Users'\n",
    "    elif y == 'ace':\n",
    "        metric = 'ACCESS Credit Equivalents Charged: Total (SU)'\n",
    "        metric_label = 'ACCESS Credit Equivalents Charged'\n",
    "    if resource == 'all':\n",
    "        dimension = dimension_label = 'Resource'\n",
    "        filters = {\n",
    "            'Service Provider': PROVIDER,\n",
    "        }\n",
    "    else:\n",
    "        filters = {\n",
    "            'Resource': resource,\n",
    "        }\n",
    "    if dimension == 'pfos':\n",
    "        dimension = 'Parent Science'\n",
    "        dimension_label = 'Parent Field of Science'\n",
    "    elif dimension == 'academic status':\n",
    "        dimension = 'User NSF Status'\n",
    "        dimension_label = 'User Academic Status'\n",
    "    elif dimension == 'project':\n",
    "        dimension = 'Allocation'\n",
    "        dimension_label = 'Project'\n",
    "    with dw:\n",
    "        df = dw.get_data(\n",
    "            duration=(TWO_YEARS_AGO_QUARTER_START_DATE, QUARTER_END_DATE),\n",
    "            realm='Jobs',\n",
    "            metric=metric,\n",
    "            dimension=dimension,\n",
    "            dataset_type='timeseries',\n",
    "            aggregation_unit='Quarter',\n",
    "            filters=filters,\n",
    "        )\n",
    "    df = df.rename(\n",
    "        columns={\n",
    "            **RESOURCE_RENAMES,\n",
    "            **{dimension: dimension_label}\n",
    "        }\n",
    "    )\n",
    "    df = df.reset_index(names='Date')\n",
    "    df = pd.melt(\n",
    "        df,\n",
    "        id_vars=['Date'],\n",
    "        var_name=dimension_label,\n",
    "        value_name=metric_label,\n",
    "    )\n",
    "    top_dimension_labels = None\n",
    "    category_orders = None\n",
    "    title = metric_label + (\n",
    "        (f' on {resource}')\n",
    "        if resource != 'all'\n",
    "        else ''\n",
    "    ) + f' by {dimension_label} by Quarter, Last Two Years'\n",
    "    if nlargest > 0:\n",
    "        top_dimension_labels = df[\n",
    "            df['Date'] == QUARTER_START_DATE\n",
    "        ].nlargest(\n",
    "            nlargest,\n",
    "            metric_label,\n",
    "        )[dimension_label].tolist()\n",
    "        df = df[df[dimension_label].isin(top_dimension_labels)]\n",
    "        category_orders = {\n",
    "            dimension_label: top_dimension_labels,\n",
    "        }\n",
    "        title += ', top {nlargest}'\n",
    "    plot = px.line(\n",
    "        df,\n",
    "        x='Date',\n",
    "        y=metric_label,\n",
    "        title=title,\n",
    "        color=dimension_label,\n",
    "        markers=True,\n",
    "        category_orders=category_orders,\n",
    "    )\n",
    "    plot.update_traces(\n",
    "        hovertemplate='%{y:,.0f}',\n",
    "    )\n",
    "    plot.update_layout(\n",
    "        xaxis_tickformat='Q%q %Y',\n",
    "        hovermode='x unified',\n",
    "        hoverlabel_namelength=-1,\n",
    "    )\n",
    "    if vertical_legend:\n",
    "        plot.update_layout(\n",
    "            legend_orientation='v',\n",
    "            legend_xanchor='left',\n",
    "            legend_x=0,\n",
    "            legend_yanchor='bottom',\n",
    "            legend_y=-1.3\n",
    "        )\n",
    "    plot.show()\n",
    "    return top_dimension_labels"
   ]
  },
  {
   "cell_type": "markdown",
   "id": "ac244200-f499-4474-8cad-52781643f3cb",
   "metadata": {},
   "source": [
    "## Active projects"
   ]
  },
  {
   "cell_type": "markdown",
   "id": "35f7dd50-4234-4fa0-8886-9b1dfea07331",
   "metadata": {},
   "source": [
    "### Total"
   ]
  },
  {
   "cell_type": "code",
   "execution_count": null,
   "id": "3399e43b-ac3f-45c5-a801-6e31fbfd37af",
   "metadata": {},
   "outputs": [],
   "source": [
    "two_year_line_plot_by_quarter(\n",
    "    y='projects',\n",
    "    resource='all',\n",
    ")"
   ]
  },
  {
   "cell_type": "markdown",
   "id": "ba8f922c-a2b8-4a11-9c25-0e0f220d5d77",
   "metadata": {},
   "source": [
    "### By Parent Field of Science"
   ]
  },
  {
   "cell_type": "code",
   "execution_count": null,
   "id": "4a69023f-ba07-4b6c-ba51-2bdf4c91a0ed",
   "metadata": {},
   "outputs": [],
   "source": [
    "two_year_line_plot_by_quarter(\n",
    "    y='projects',\n",
    "    resource='Purdue Anvil CPU',\n",
    "    dimension='pfos',\n",
    ")"
   ]
  },
  {
   "cell_type": "code",
   "execution_count": null,
   "id": "288fd961-7281-4fbc-8891-a052f49a7e90",
   "metadata": {},
   "outputs": [],
   "source": [
    "two_year_line_plot_by_quarter(\n",
    "    y='projects',\n",
    "    resource='Purdue Anvil GPU',\n",
    "    dimension='pfos',\n",
    ")"
   ]
  },
  {
   "cell_type": "code",
   "execution_count": null,
   "id": "0e1f0ad7-476f-4a17-996f-222f12eab7e5",
   "metadata": {},
   "outputs": [],
   "source": [
    "top_projects = two_year_line_plot_by_quarter(\n",
    "    y='ace',\n",
    "    resource='Purdue Anvil CPU',\n",
    "    dimension='project',\n",
    "    nlargest=10,\n",
    "    vertical_legend=True,\n",
    ")"
   ]
  },
  {
   "cell_type": "code",
   "execution_count": null,
   "id": "f369efcd-cdeb-41f7-b93a-e2bc868372dc",
   "metadata": {},
   "outputs": [],
   "source": [
    "dimensions = ['PI', 'Parent Science']\n",
    "aces = []\n",
    "dimension_counts = {}\n",
    "with dw:\n",
    "    for dimension in dimensions:\n",
    "        dimension_counts[dimension] = []\n",
    "        for project in top_projects:\n",
    "            df = dw.get_data(\n",
    "                duration=(QUARTER_START_DATE, QUARTER_END_DATE),\n",
    "                realm='Jobs',\n",
    "                metric='ACCESS Credit Equivalents Charged: Total (SU)',\n",
    "                dimension=dimension,\n",
    "                dataset_type='aggregate',\n",
    "                aggregation_unit='quarter',\n",
    "                filters={\n",
    "                    'Allocation': project,\n",
    "                    'Resource': 'Purdue Anvil CPU',\n",
    "                },\n",
    "            )\n",
    "            dimension_counts[dimension].append(df.index[0])\n",
    "            if dimension == 'PI':\n",
    "                aces.append(df.iloc[0])"
   ]
  },
  {
   "cell_type": "code",
   "execution_count": null,
   "id": "a3b6fda2-22e3-4e05-8b29-ab4cabb43f9c",
   "metadata": {},
   "outputs": [],
   "source": [
    "data = [\n",
    "    top_projects,\n",
    "    aces,\n",
    "]\n",
    "for dimension_values in dimension_counts.values():\n",
    "    data.append(dimension_values)\n",
    "df = pd.DataFrame(data).transpose()\n",
    "df.columns = ['Project', 'ACEs Charged'] + ['PI', 'Parent Field of Science']\n",
    "display_df_md_table(df)"
   ]
  },
  {
   "cell_type": "markdown",
   "id": "88ec5339-7ce6-4ce0-9910-3004e71ed65d",
   "metadata": {},
   "source": [
    "## Active users"
   ]
  },
  {
   "cell_type": "code",
   "execution_count": null,
   "id": "e903eb98-691e-4222-a0f6-069146373b78",
   "metadata": {},
   "outputs": [],
   "source": [
    "two_year_line_plot_by_quarter(\n",
    "    y='users',\n",
    "    resource='all',\n",
    "    dimension=None,\n",
    ")"
   ]
  },
  {
   "cell_type": "code",
   "execution_count": null,
   "id": "1da66f5c-c9c1-444f-9828-56f2b42d0556",
   "metadata": {},
   "outputs": [],
   "source": [
    "two_year_line_plot_by_quarter(\n",
    "    y='users',\n",
    "    resource='Purdue Anvil CPU',\n",
    "    dimension='pfos',\n",
    ")"
   ]
  },
  {
   "cell_type": "code",
   "execution_count": null,
   "id": "e5f04158-5943-4f24-b197-bc275a773679",
   "metadata": {},
   "outputs": [],
   "source": [
    "two_year_line_plot_by_quarter(\n",
    "    y='users',\n",
    "    resource='Purdue Anvil GPU',\n",
    "    dimension='pfos',\n",
    ")"
   ]
  },
  {
   "cell_type": "code",
   "execution_count": null,
   "id": "bc64dfe7-e86f-4511-966e-d5ade72b24d0",
   "metadata": {},
   "outputs": [],
   "source": [
    "two_year_line_plot_by_quarter(\n",
    "    y='users',\n",
    "    resource='Purdue Anvil CPU',\n",
    "    dimension='academic status',\n",
    ")"
   ]
  },
  {
   "cell_type": "code",
   "execution_count": null,
   "id": "abd8736f-9616-4e7b-9622-27adb27dd711",
   "metadata": {},
   "outputs": [],
   "source": [
    "two_year_line_plot_by_quarter(\n",
    "    y='users',\n",
    "    resource='Purdue Anvil GPU',\n",
    "    dimension='academic status',\n",
    ")"
   ]
  },
  {
   "cell_type": "code",
   "execution_count": null,
   "id": "91d2777c-ebc5-476c-ad51-9d2bcc140627",
   "metadata": {},
   "outputs": [],
   "source": []
  }
 ],
 "metadata": {
  "kernelspec": {
   "display_name": "Python 3 (ipykernel)",
   "language": "python",
   "name": "python3"
  },
  "language_info": {
   "codemirror_mode": {
    "name": "ipython",
    "version": 3
   },
   "file_extension": ".py",
   "mimetype": "text/x-python",
   "name": "python",
   "nbconvert_exporter": "python",
   "pygments_lexer": "ipython3",
   "version": "3.11.6"
  }
 },
 "nbformat": 4,
 "nbformat_minor": 5
}
