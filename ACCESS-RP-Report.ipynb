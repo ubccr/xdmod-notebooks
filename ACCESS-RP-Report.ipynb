{
 "cells": [
  {
   "cell_type": "code",
   "execution_count": null,
   "id": "629ae28c-0052-4426-baef-4a3ca53740d4",
   "metadata": {},
   "outputs": [],
   "source": [
    "PROVIDER = 'Purdue'\n",
    "YEAR = 2025\n",
    "QUARTER_START_DATE_SUFFIX = '-01-01'\n",
    "QUARTER_END_DATE_SUFFIX = '-03-31'"
   ]
  },
  {
   "cell_type": "code",
   "execution_count": null,
   "id": "353c6271-905b-434c-84de-66e5f949c328",
   "metadata": {},
   "outputs": [],
   "source": [
    "QUARTER_START_DATE = str(YEAR) + QUARTER_START_DATE_SUFFIX\n",
    "QUARTER_END_DATE = str(YEAR) + QUARTER_END_DATE_SUFFIX\n",
    "TWO_YEARS_AGO_QUARTER_START_DATE = str(YEAR - 2) + QUARTER_START_DATE_SUFFIX"
   ]
  },
  {
   "cell_type": "code",
   "execution_count": null,
   "id": "915b4063-f7e5-4bf4-bb1e-50ecb9bd6ba1",
   "metadata": {},
   "outputs": [],
   "source": [
    "from IPython.display import display, Markdown"
   ]
  },
  {
   "cell_type": "code",
   "execution_count": null,
   "id": "b01dedd4-0b91-45ea-b03d-2229fa0b7f33",
   "metadata": {},
   "outputs": [],
   "source": [
    "display(Markdown(\n",
    "    f'''# ACCESS Metrics Report for {PROVIDER}\n",
    "    {YEAR}{QUARTER_START_DATE_SUFFIX} through {YEAR}{QUARTER_END_DATE_SUFFIX}\n",
    "    '''\n",
    "))"
   ]
  },
  {
   "cell_type": "code",
   "execution_count": null,
   "id": "00b0aa60-f8fa-4a4a-8a26-0a80788d4b49",
   "metadata": {},
   "outputs": [],
   "source": [
    "# This cell will be removed once JWT implementation is complete.\n",
    "import os\n",
    "from pathlib import Path\n",
    "from dotenv import load_dotenv\n",
    "load_dotenv(Path(os.path.expanduser('~/xdmod-data.env')), override=True)\n",
    "os.environ['XDMOD_API_TOKEN'] = os.environ['PROD_API_TOKEN']"
   ]
  },
  {
   "cell_type": "code",
   "execution_count": null,
   "id": "be4976cc-9373-4897-a722-4265f4be194b",
   "metadata": {},
   "outputs": [],
   "source": [
    "#import sys\n",
    "#! {sys.executable} -m pip install --upgrade 'xdmod-data>=1.0.0,<2.0.0' python-dotenv tabulate"
   ]
  },
  {
   "cell_type": "code",
   "execution_count": null,
   "id": "4677e55c-9720-4eac-9e6b-53f740f17610",
   "metadata": {},
   "outputs": [],
   "source": [
    "def print_with_oxford_commas(string, bold=False):\n",
    "    if len(string) == 0:\n",
    "        return ''\n",
    "    if bold:\n",
    "        if len(string) == 1:\n",
    "            return '**' + string[0] + '**'\n",
    "        if len(string) == 2:\n",
    "            return '**' + string[0] + '** and **' + string[1] + '**'\n",
    "        return '**' + '**, **'.join(string[:-1]) + '**, and **' + string[-1] + '**'\n",
    "    else:\n",
    "        if len(string) == 1:\n",
    "            return string[0]\n",
    "        if len(string) == 2:\n",
    "            return string[0] + ' and ' + string[1]\n",
    "        return ', '.join(string[:-1]) + ', and ' + string[-1]"
   ]
  },
  {
   "cell_type": "code",
   "execution_count": null,
   "id": "1277cd84-5f56-49ec-b306-da4ea9208924",
   "metadata": {},
   "outputs": [],
   "source": [
    "import pandas as pd\n",
    "import plotly.express as px\n",
    "import plotly.io as pio\n",
    "import xdmod_data.themes\n",
    "pio.templates.default = 'timeseries'\n",
    "from xdmod_data.warehouse import DataWarehouse\n",
    "from IPython.display import display, Markdown\n",
    "\n",
    "pd.set_option('future.no_silent_downcasting', True)\n",
    "\n",
    "def display_df_md_table(df):\n",
    "    return display(Markdown(df.replace('\\n', '<br/>', regex=True).to_markdown(floatfmt=',.0f')))\n",
    "dw = DataWarehouse('https://xdmod.access-ci.org')"
   ]
  },
  {
   "cell_type": "code",
   "execution_count": null,
   "id": "b385fadc-fef8-40f5-8723-98cbe1b72fb6",
   "metadata": {},
   "outputs": [],
   "source": [
    "dfs = {\n",
    "    'projects': {\n",
    "        'all': {}\n",
    "    },\n",
    "    'users': {\n",
    "        'all': {}\n",
    "    },\n",
    "}\n",
    "with dw:\n",
    "    dfs['projects']['all']['all'] = dw.get_data(\n",
    "        duration=(TWO_YEARS_AGO_QUARTER_START_DATE, QUARTER_END_DATE),\n",
    "        realm='Jobs',\n",
    "        metric='Number of Allocations: Active',\n",
    "        dimension='Resource',\n",
    "        dataset_type='timeseries',\n",
    "        aggregation_unit='Quarter',\n",
    "        filters={\n",
    "            'Service Provider': PROVIDER,\n",
    "        },\n",
    "    )\n",
    "    RESOURCES = dfs['projects']['all']['all'].columns.tolist()\n",
    "    RESOURCES_STR = print_with_oxford_commas(RESOURCES, bold=True)\n",
    "    for y in dfs.keys():\n",
    "        for resource in ['all'] + RESOURCES:\n",
    "            dfs[y][resource] = {}\n",
    "            for group_by in ['all', 'pfos']:\n",
    "                if (\n",
    "                    group_by == 'all' and resource != 'all'\n",
    "                    or group_by != 'all' and resource == 'all'\n",
    "                ):\n",
    "                    continue\n",
    "                if y == 'projects':\n",
    "                    metric = 'Number of Allocations: Active'\n",
    "                    metric_label = 'Number of Active Projects'\n",
    "                elif y == 'users':\n",
    "                    metric = 'Number of Users: Active'\n",
    "                    metric_label = 'Number of Active Users'\n",
    "                elif y == 'ace':\n",
    "                    metric = 'ACCESS Credit Equivalents Charged: Total (SU)'\n",
    "                    metric_label = 'ACCESS Credit Equivalents Charged'\n",
    "                if resource == 'all':\n",
    "                    dimension = dimension_label = 'Resource'\n",
    "                    filters = {\n",
    "                        'Service Provider': PROVIDER,\n",
    "                    }\n",
    "                else:\n",
    "                    filters = {\n",
    "                        'Resource': resource,\n",
    "                    }\n",
    "                if group_by == 'pfos':\n",
    "                    dimension = 'Parent Science'\n",
    "                    dimension_label = 'Parent Field of Science'\n",
    "                elif group_by == 'academic status':\n",
    "                    dimension = 'User NSF Status'\n",
    "                    dimension_label = 'User Academic Status'\n",
    "                elif group_by == 'project':\n",
    "                    dimension = 'Allocation'\n",
    "                    dimension_label = 'Project'\n",
    "                dfs[y][resource][group_by] = dw.get_data(\n",
    "                    duration=(TWO_YEARS_AGO_QUARTER_START_DATE, QUARTER_END_DATE),\n",
    "                    realm='Jobs',\n",
    "                    metric=metric,\n",
    "                    dimension=dimension,\n",
    "                    dataset_type='timeseries',\n",
    "                    aggregation_unit='Quarter',\n",
    "                    filters=filters,\n",
    "                )"
   ]
  },
  {
   "cell_type": "code",
   "execution_count": null,
   "id": "6e42a400-58c4-4fac-bbc1-d1d493ed2ddf",
   "metadata": {},
   "outputs": [],
   "source": [
    "display(Markdown('## Introduction'))"
   ]
  },
  {
   "cell_type": "code",
   "execution_count": null,
   "id": "d040f860-0141-443d-a1f3-f3f2f2d963fb",
   "metadata": {},
   "outputs": [],
   "source": [
    "top_5 = {'projects': {}}\n",
    "top_5_strings = {}\n",
    "top_5_string = {}\n",
    "for resource in RESOURCES:\n",
    "    top_5['projects'][resource] = {\n",
    "        'pfos': {}\n",
    "    }\n",
    "    top_5['projects'][resource]['pfos'] = dfs['projects'][resource]['pfos'].loc[QUARTER_START_DATE].nlargest(5)\n",
    "    top_5_strings[resource] = []\n",
    "    for pfos, count in top_5['projects'][resource]['pfos'].items():\n",
    "        top_5_strings[resource].append(f'{pfos} ({int(count)} projects)')\n",
    "    #top_5_string[resource] = print_with_oxford_commas(top_5_strings[resource], bold=True)\n",
    "    #print(top_5_strings[resource])\n",
    "    #print(top_5['projects'][resource]['pfos'])\n",
    "    #print(type(top_5['projects'][resource]['pfos']))"
   ]
  },
  {
   "cell_type": "code",
   "execution_count": null,
   "id": "c782c033-b3f0-4c44-bd63-74512e219562",
   "metadata": {},
   "outputs": [],
   "source": [
    "display(Markdown(\n",
    "    f'''This report from the ACCESS Metrics team contains information about the utilization and performance of the resources from {PROVIDER}\n",
    "    for the dates {YEAR}{QUARTER_START_DATE_SUFFIX} through {YEAR}{QUARTER_END_DATE_SUFFIX}, specifically the resources {RESOURCES_STR}.\n",
    "    The data in this report come from ACCESS XDMoD via the ACCESS Central Database. Below is a summary of the data for each resource during\n",
    "    this time period.\n",
    "    '''\n",
    "))\n",
    "for resource in RESOURCES:\n",
    "    display(Markdown(f'### {resource}'))\n",
    "    display(Markdown(\n",
    "        f'''There were **{int(dfs['projects']['all']['all'].at[QUARTER_START_DATE, resource]):,} active projects**\n",
    "        (projects that ran at least one job).\n",
    "        \\n\\nThere were **{int(dfs['users']['all']['all'].at[QUARTER_START_DATE, resource]):,} active users**\n",
    "        (users who ran at least one job).\n",
    "        \\n\\nThe top 5 parent fields of science in terms of number of active projects were:\n",
    "        '''\n",
    "        + ''.join([f'\\n\\n- **{string}**' for string in top_5_strings[resource]])\n",
    "    ))"
   ]
  },
  {
   "cell_type": "code",
   "execution_count": null,
   "id": "e01314ec-7932-4d6f-8f9f-db43efb67cce",
   "metadata": {},
   "outputs": [],
   "source": [
    "def two_year_line_plot_by_quarter(\n",
    "    y=None,\n",
    "    resource=None,\n",
    "    dimension=None,\n",
    "    nlargest=0,\n",
    "    vertical_legend=False,\n",
    "):\n",
    "    if y == 'projects':\n",
    "        metric = 'Number of Allocations: Active'\n",
    "        metric_label = 'Number of Active Projects'\n",
    "    elif y == 'users':\n",
    "        metric = 'Number of Users: Active'\n",
    "        metric_label = 'Number of Active Users'\n",
    "    elif y == 'ace':\n",
    "        metric = 'ACCESS Credit Equivalents Charged: Total (SU)'\n",
    "        metric_label = 'ACCESS Credit Equivalents Charged'\n",
    "    if resource == 'all':\n",
    "        dimension = dimension_label = 'Resource'\n",
    "        filters = {\n",
    "            'Service Provider': PROVIDER,\n",
    "        }\n",
    "    else:\n",
    "        filters = {\n",
    "            'Resource': resource,\n",
    "        }\n",
    "    if dimension == 'pfos':\n",
    "        dimension = 'Parent Science'\n",
    "        dimension_label = 'Parent Field of Science'\n",
    "    elif dimension == 'academic status':\n",
    "        dimension = 'User NSF Status'\n",
    "        dimension_label = 'User Academic Status'\n",
    "    elif dimension == 'project':\n",
    "        dimension = 'Allocation'\n",
    "        dimension_label = 'Project'\n",
    "    with dw:\n",
    "        df = dw.get_data(\n",
    "            duration=(TWO_YEARS_AGO_QUARTER_START_DATE, QUARTER_END_DATE),\n",
    "            realm='Jobs',\n",
    "            metric=metric,\n",
    "            dimension=dimension,\n",
    "            dataset_type='timeseries',\n",
    "            aggregation_unit='Quarter',\n",
    "            filters=filters,\n",
    "        )\n",
    "    df = df.rename(\n",
    "        columns={\n",
    "            dimension: dimension_label,\n",
    "        },\n",
    "    )\n",
    "    df = df.reset_index(names='Date')\n",
    "    df = pd.melt(\n",
    "        df,\n",
    "        id_vars=['Date'],\n",
    "        var_name=dimension_label,\n",
    "        value_name=metric_label,\n",
    "    )\n",
    "    top_dimension_labels = None\n",
    "    category_orders = None\n",
    "    title = metric_label + (\n",
    "        (f' on {resource}')\n",
    "        if resource != 'all'\n",
    "        else ''\n",
    "    ) + f' by {dimension_label} by Quarter, Last Two Years'\n",
    "    if nlargest > 0:\n",
    "        top_dimension_labels = df[\n",
    "            df['Date'] == QUARTER_START_DATE\n",
    "        ].nlargest(\n",
    "            nlargest,\n",
    "            metric_label,\n",
    "        )[dimension_label].tolist()\n",
    "        df = df[df[dimension_label].isin(top_dimension_labels)]\n",
    "        category_orders = {\n",
    "            dimension_label: top_dimension_labels,\n",
    "        }\n",
    "        title += f', Top {nlargest}'\n",
    "    plot = px.line(\n",
    "        df,\n",
    "        x='Date',\n",
    "        y=metric_label,\n",
    "        title=title,\n",
    "        color=dimension_label,\n",
    "        markers=True,\n",
    "        category_orders=category_orders,\n",
    "    )\n",
    "    plot.update_traces(\n",
    "        hovertemplate='%{y:,.0f}',\n",
    "    )\n",
    "    plot.update_layout(\n",
    "        xaxis_tickformat='Q%q %Y',\n",
    "        hovermode='x unified',\n",
    "        hoverlabel_namelength=-1,\n",
    "    )\n",
    "    if vertical_legend:\n",
    "        plot.update_layout(\n",
    "            legend_orientation='v',\n",
    "            legend_xanchor='left',\n",
    "            legend_x=0,\n",
    "            legend_yanchor='bottom',\n",
    "            legend_y=-1.3\n",
    "        )\n",
    "    plot.show()\n",
    "    return top_dimension_labels"
   ]
  },
  {
   "cell_type": "markdown",
   "id": "ac244200-f499-4474-8cad-52781643f3cb",
   "metadata": {},
   "source": [
    "## Active projects"
   ]
  },
  {
   "cell_type": "markdown",
   "id": "35f7dd50-4234-4fa0-8886-9b1dfea07331",
   "metadata": {},
   "source": [
    "### Total"
   ]
  },
  {
   "cell_type": "code",
   "execution_count": null,
   "id": "3399e43b-ac3f-45c5-a801-6e31fbfd37af",
   "metadata": {},
   "outputs": [],
   "source": [
    "two_year_line_plot_by_quarter(\n",
    "    y='projects',\n",
    "    resource='all',\n",
    ")"
   ]
  },
  {
   "cell_type": "markdown",
   "id": "ba8f922c-a2b8-4a11-9c25-0e0f220d5d77",
   "metadata": {},
   "source": [
    "### By Parent Field of Science"
   ]
  },
  {
   "cell_type": "code",
   "execution_count": null,
   "id": "4a69023f-ba07-4b6c-ba51-2bdf4c91a0ed",
   "metadata": {},
   "outputs": [],
   "source": [
    "two_year_line_plot_by_quarter(\n",
    "    y='projects',\n",
    "    resource='Purdue Anvil CPU',\n",
    "    dimension='pfos',\n",
    ")"
   ]
  },
  {
   "cell_type": "code",
   "execution_count": null,
   "id": "288fd961-7281-4fbc-8891-a052f49a7e90",
   "metadata": {},
   "outputs": [],
   "source": [
    "two_year_line_plot_by_quarter(\n",
    "    y='projects',\n",
    "    resource='Purdue Anvil GPU',\n",
    "    dimension='pfos',\n",
    ")"
   ]
  },
  {
   "cell_type": "code",
   "execution_count": null,
   "id": "0e1f0ad7-476f-4a17-996f-222f12eab7e5",
   "metadata": {},
   "outputs": [],
   "source": [
    "top_projects = two_year_line_plot_by_quarter(\n",
    "    y='ace',\n",
    "    resource='Purdue Anvil CPU',\n",
    "    dimension='project',\n",
    "    nlargest=10,\n",
    "    vertical_legend=True,\n",
    ")"
   ]
  },
  {
   "cell_type": "code",
   "execution_count": null,
   "id": "f369efcd-cdeb-41f7-b93a-e2bc868372dc",
   "metadata": {},
   "outputs": [],
   "source": [
    "dimensions = ['PI', 'Parent Science']\n",
    "aces = []\n",
    "dimension_counts = {}\n",
    "with dw:\n",
    "    for dimension in dimensions:\n",
    "        dimension_counts[dimension] = []\n",
    "        for project in top_projects:\n",
    "            df = dw.get_data(\n",
    "                duration=(QUARTER_START_DATE, QUARTER_END_DATE),\n",
    "                realm='Jobs',\n",
    "                metric='ACCESS Credit Equivalents Charged: Total (SU)',\n",
    "                dimension=dimension,\n",
    "                dataset_type='aggregate',\n",
    "                aggregation_unit='quarter',\n",
    "                filters={\n",
    "                    'Allocation': project,\n",
    "                    'Resource': 'Purdue Anvil CPU',\n",
    "                },\n",
    "            )\n",
    "            dimension_counts[dimension].append(df.index[0])\n",
    "            if dimension == 'PI':\n",
    "                aces.append(df.iloc[0])"
   ]
  },
  {
   "cell_type": "code",
   "execution_count": null,
   "id": "a3b6fda2-22e3-4e05-8b29-ab4cabb43f9c",
   "metadata": {},
   "outputs": [],
   "source": [
    "data = [\n",
    "    top_projects,\n",
    "    aces,\n",
    "]\n",
    "for dimension_values in dimension_counts.values():\n",
    "    data.append(dimension_values)\n",
    "df = pd.DataFrame(data).transpose()\n",
    "df.columns = ['Project', 'ACEs Charged'] + ['PI', 'Parent Field of Science']\n",
    "display_df_md_table(df)"
   ]
  },
  {
   "cell_type": "markdown",
   "id": "88ec5339-7ce6-4ce0-9910-3004e71ed65d",
   "metadata": {},
   "source": [
    "## Active users"
   ]
  },
  {
   "cell_type": "code",
   "execution_count": null,
   "id": "e903eb98-691e-4222-a0f6-069146373b78",
   "metadata": {},
   "outputs": [],
   "source": [
    "two_year_line_plot_by_quarter(\n",
    "    y='users',\n",
    "    resource='all',\n",
    "    dimension=None,\n",
    ")"
   ]
  },
  {
   "cell_type": "code",
   "execution_count": null,
   "id": "1da66f5c-c9c1-444f-9828-56f2b42d0556",
   "metadata": {},
   "outputs": [],
   "source": [
    "two_year_line_plot_by_quarter(\n",
    "    y='users',\n",
    "    resource='Purdue Anvil CPU',\n",
    "    dimension='pfos',\n",
    ")"
   ]
  },
  {
   "cell_type": "code",
   "execution_count": null,
   "id": "e5f04158-5943-4f24-b197-bc275a773679",
   "metadata": {},
   "outputs": [],
   "source": [
    "two_year_line_plot_by_quarter(\n",
    "    y='users',\n",
    "    resource='Purdue Anvil GPU',\n",
    "    dimension='pfos',\n",
    ")"
   ]
  },
  {
   "cell_type": "code",
   "execution_count": null,
   "id": "bc64dfe7-e86f-4511-966e-d5ade72b24d0",
   "metadata": {},
   "outputs": [],
   "source": [
    "two_year_line_plot_by_quarter(\n",
    "    y='users',\n",
    "    resource='Purdue Anvil CPU',\n",
    "    dimension='academic status',\n",
    ")"
   ]
  },
  {
   "cell_type": "code",
   "execution_count": null,
   "id": "abd8736f-9616-4e7b-9622-27adb27dd711",
   "metadata": {},
   "outputs": [],
   "source": [
    "two_year_line_plot_by_quarter(\n",
    "    y='users',\n",
    "    resource='Purdue Anvil GPU',\n",
    "    dimension='academic status',\n",
    ")"
   ]
  }
 ],
 "metadata": {
  "kernelspec": {
   "display_name": "Python 3 (ipykernel)",
   "language": "python",
   "name": "python3"
  },
  "language_info": {
   "codemirror_mode": {
    "name": "ipython",
    "version": 3
   },
   "file_extension": ".py",
   "mimetype": "text/x-python",
   "name": "python",
   "nbconvert_exporter": "python",
   "pygments_lexer": "ipython3",
   "version": "3.11.6"
  }
 },
 "nbformat": 4,
 "nbformat_minor": 5
}
